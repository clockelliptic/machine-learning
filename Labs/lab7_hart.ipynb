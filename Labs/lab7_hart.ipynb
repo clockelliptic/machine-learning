{
 "cells": [
  {
   "cell_type": "markdown",
   "metadata": {
    "toc": true
   },
   "source": [
    "<h1>Table of Contents<span class=\"tocSkip\"></span></h1>\n",
    "<div class=\"toc\"><ul class=\"toc-item\"><li><span><a href=\"#Lab-7\" data-toc-modified-id=\"Lab-7-1\"><span class=\"toc-item-num\">1&nbsp;&nbsp;</span>Lab 7</a></span><ul class=\"toc-item\"><li><span><a href=\"#Linear-SVM---Iris-Dataset\" data-toc-modified-id=\"Linear-SVM---Iris-Dataset-1.1\"><span class=\"toc-item-num\">1.1&nbsp;&nbsp;</span>Linear SVM - Iris Dataset</a></span></li><li><span><a href=\"#SVM---MNIST-Handwritten-Digits\" data-toc-modified-id=\"SVM---MNIST-Handwritten-Digits-1.2\"><span class=\"toc-item-num\">1.2&nbsp;&nbsp;</span>SVM - MNIST Handwritten Digits</a></span></li><li><span><a href=\"#Gradient-Descent-Algorithms-Compared\" data-toc-modified-id=\"Gradient-Descent-Algorithms-Compared-1.3\"><span class=\"toc-item-num\">1.3&nbsp;&nbsp;</span>Gradient Descent Algorithms Compared</a></span></li></ul></li></ul></div>"
   ]
  },
  {
   "cell_type": "markdown",
   "metadata": {},
   "source": [
    "# Lab 7"
   ]
  },
  {
   "cell_type": "markdown",
   "metadata": {},
   "source": [
    "The goal of this lab is to explore a variety of SVM/SVC techniques in Python\n",
    "\n",
    "1. Use the handson github repository, use the code in chapter 9 as a tutorial.\n",
    "\n",
    "2. Train a linear SVM classifier (SVC) on 2 classes separable classes of the Iris dataset. Report the parameters of the linear separator and the accuracy.\n",
    "\n",
    "3. Train an SVC on MNIST data (OvR) to classify the 5s\n",
    "\n",
    "4. [extra] Generate data for a quadratic model plus noise. Apply SGD, miniBatch GD, and batch GD. Compare the learning curves."
   ]
  },
  {
   "cell_type": "markdown",
   "metadata": {},
   "source": [
    "## Linear SVM - Iris Dataset"
   ]
  },
  {
   "cell_type": "code",
   "execution_count": 1,
   "metadata": {
    "ExecuteTime": {
     "end_time": "2019-03-01T21:04:47.029186Z",
     "start_time": "2019-03-01T21:04:44.184751Z"
    }
   },
   "outputs": [],
   "source": [
    "from sklearn import svm\n",
    "from sklearn.model_selection import train_test_split\n",
    "from sklearn.preprocessing import OneHotEncoder\n",
    "import pandas as pd\n",
    "import numpy as np"
   ]
  },
  {
   "cell_type": "code",
   "execution_count": 2,
   "metadata": {
    "ExecuteTime": {
     "end_time": "2019-03-01T21:04:47.375782Z",
     "start_time": "2019-03-01T21:04:47.033146Z"
    }
   },
   "outputs": [],
   "source": [
    "import matplotlib.pyplot as plt\n",
    "%matplotlib inline\n",
    "from jupyterthemes import jtplot\n",
    "jtplot.style()"
   ]
  },
  {
   "cell_type": "code",
   "execution_count": 86,
   "metadata": {
    "ExecuteTime": {
     "end_time": "2019-03-01T21:33:22.237377Z",
     "start_time": "2019-03-01T21:33:22.226090Z"
    }
   },
   "outputs": [],
   "source": [
    "support_model = svm.SVC(kernel='linear', gamma='scale')\n",
    "data = pd.read_csv('data/iris.csv')"
   ]
  },
  {
   "cell_type": "code",
   "execution_count": 87,
   "metadata": {
    "ExecuteTime": {
     "end_time": "2019-03-01T21:33:25.629455Z",
     "start_time": "2019-03-01T21:33:25.624507Z"
    },
    "scrolled": false
   },
   "outputs": [],
   "source": [
    "#help(svm.SVC)"
   ]
  },
  {
   "cell_type": "code",
   "execution_count": 88,
   "metadata": {
    "ExecuteTime": {
     "end_time": "2019-03-01T21:33:26.534106Z",
     "start_time": "2019-03-01T21:33:26.527123Z"
    }
   },
   "outputs": [],
   "source": [
    "# suppose we're only interested in petal_length and petal_width\n",
    "features = data.values[:, 2:4]\n",
    "labels = data.values[:, 4]"
   ]
  },
  {
   "cell_type": "code",
   "execution_count": 89,
   "metadata": {
    "ExecuteTime": {
     "end_time": "2019-03-01T21:33:27.003302Z",
     "start_time": "2019-03-01T21:33:26.996027Z"
    }
   },
   "outputs": [],
   "source": [
    "# encode the labels as integer values for easy & convenient color coding in matplotlib graphs\n",
    "encode_key = [i for i in enumerate(np.unique(labels))]\n",
    "encoded_labels = []\n",
    "\n",
    "for i in labels:\n",
    "    for j in encode_key:\n",
    "        if i == j[1]: encoded_labels.append(j[0])\n",
    "encoded_labels = np.asarray(encoded_labels)"
   ]
  },
  {
   "cell_type": "code",
   "execution_count": 90,
   "metadata": {
    "ExecuteTime": {
     "end_time": "2019-03-01T21:33:27.527957Z",
     "start_time": "2019-03-01T21:33:27.520881Z"
    }
   },
   "outputs": [],
   "source": [
    "# split the data into training and testing sets\n",
    "trainX, testX, trainY, testY = train_test_split(features, labels, test_size = .33)"
   ]
  },
  {
   "cell_type": "code",
   "execution_count": 91,
   "metadata": {
    "ExecuteTime": {
     "end_time": "2019-03-01T21:33:28.032843Z",
     "start_time": "2019-03-01T21:33:28.017849Z"
    }
   },
   "outputs": [
    {
     "name": "stderr",
     "output_type": "stream",
     "text": [
      "C:\\Users\\allen\\Miniconda3\\envs\\idp\\lib\\site-packages\\sklearn\\daal4sklearn\\svm.py:238: FutureWarning: elementwise comparison failed; returning scalar instead, but in the future will perform elementwise comparison\n",
      "  self.n_support_ = np.array([np.sum(indices == c) for c in self.classes_], dtype=np.int32)\n"
     ]
    },
    {
     "data": {
      "text/plain": [
       "SVC(C=1.0, cache_size=200, class_weight=None, coef0=0.0,\n",
       "  decision_function_shape='ovr', degree=3, gamma='scale', kernel='linear',\n",
       "  max_iter=-1, probability=False, random_state=None, shrinking=True,\n",
       "  tol=0.001, verbose=False)"
      ]
     },
     "execution_count": 91,
     "metadata": {},
     "output_type": "execute_result"
    }
   ],
   "source": [
    "# fit the data\n",
    "support_model.fit(trainX, trainY)"
   ]
  },
  {
   "cell_type": "code",
   "execution_count": 92,
   "metadata": {
    "ExecuteTime": {
     "end_time": "2019-03-01T21:33:29.486063Z",
     "start_time": "2019-03-01T21:33:29.478540Z"
    }
   },
   "outputs": [],
   "source": [
    "# make some predictions\n",
    "predictions = support_model.predict(testX)"
   ]
  },
  {
   "cell_type": "code",
   "execution_count": 93,
   "metadata": {
    "ExecuteTime": {
     "end_time": "2019-03-01T21:33:30.266158Z",
     "start_time": "2019-03-01T21:33:30.053570Z"
    }
   },
   "outputs": [
    {
     "data": {
      "text/html": [
       "<div>\n",
       "<style scoped>\n",
       "    .dataframe tbody tr th:only-of-type {\n",
       "        vertical-align: middle;\n",
       "    }\n",
       "\n",
       "    .dataframe tbody tr th {\n",
       "        vertical-align: top;\n",
       "    }\n",
       "\n",
       "    .dataframe thead th {\n",
       "        text-align: right;\n",
       "    }\n",
       "</style>\n",
       "<table border=\"1\" class=\"dataframe\">\n",
       "  <thead>\n",
       "    <tr style=\"text-align: right;\">\n",
       "      <th></th>\n",
       "      <th>parameter</th>\n",
       "      <th>value</th>\n",
       "    </tr>\n",
       "  </thead>\n",
       "  <tbody>\n",
       "    <tr>\n",
       "      <th>0</th>\n",
       "      <td>C</td>\n",
       "      <td>1</td>\n",
       "    </tr>\n",
       "    <tr>\n",
       "      <th>1</th>\n",
       "      <td>cache_size</td>\n",
       "      <td>200</td>\n",
       "    </tr>\n",
       "    <tr>\n",
       "      <th>2</th>\n",
       "      <td>class_weight</td>\n",
       "      <td>None</td>\n",
       "    </tr>\n",
       "    <tr>\n",
       "      <th>3</th>\n",
       "      <td>coef0</td>\n",
       "      <td>0</td>\n",
       "    </tr>\n",
       "    <tr>\n",
       "      <th>4</th>\n",
       "      <td>decision_function_shape</td>\n",
       "      <td>ovr</td>\n",
       "    </tr>\n",
       "    <tr>\n",
       "      <th>5</th>\n",
       "      <td>degree</td>\n",
       "      <td>3</td>\n",
       "    </tr>\n",
       "    <tr>\n",
       "      <th>6</th>\n",
       "      <td>gamma</td>\n",
       "      <td>scale</td>\n",
       "    </tr>\n",
       "    <tr>\n",
       "      <th>7</th>\n",
       "      <td>kernel</td>\n",
       "      <td>linear</td>\n",
       "    </tr>\n",
       "    <tr>\n",
       "      <th>8</th>\n",
       "      <td>max_iter</td>\n",
       "      <td>-1</td>\n",
       "    </tr>\n",
       "    <tr>\n",
       "      <th>9</th>\n",
       "      <td>probability</td>\n",
       "      <td>False</td>\n",
       "    </tr>\n",
       "    <tr>\n",
       "      <th>10</th>\n",
       "      <td>random_state</td>\n",
       "      <td>None</td>\n",
       "    </tr>\n",
       "    <tr>\n",
       "      <th>11</th>\n",
       "      <td>shrinking</td>\n",
       "      <td>True</td>\n",
       "    </tr>\n",
       "    <tr>\n",
       "      <th>12</th>\n",
       "      <td>tol</td>\n",
       "      <td>0.001</td>\n",
       "    </tr>\n",
       "    <tr>\n",
       "      <th>13</th>\n",
       "      <td>verbose</td>\n",
       "      <td>False</td>\n",
       "    </tr>\n",
       "  </tbody>\n",
       "</table>\n",
       "</div>"
      ],
      "text/plain": [
       "                  parameter   value\n",
       "0                         C       1\n",
       "1                cache_size     200\n",
       "2              class_weight    None\n",
       "3                     coef0       0\n",
       "4   decision_function_shape     ovr\n",
       "5                    degree       3\n",
       "6                     gamma   scale\n",
       "7                    kernel  linear\n",
       "8                  max_iter      -1\n",
       "9               probability   False\n",
       "10             random_state    None\n",
       "11                shrinking    True\n",
       "12                      tol   0.001\n",
       "13                  verbose   False"
      ]
     },
     "metadata": {},
     "output_type": "display_data"
    },
    {
     "name": "stdout",
     "output_type": "stream",
     "text": [
      "Training set accuracy: 0.98\n",
      "Test set accuracy: 0.96\n"
     ]
    },
    {
     "data": {
      "text/plain": [
       "<matplotlib.collections.PathCollection at 0x21788e26a58>"
      ]
     },
     "execution_count": 93,
     "metadata": {},
     "output_type": "execute_result"
    },
    {
     "data": {
      "image/png": "[encoded data removed]",
      "text/plain": [
       "<Figure size 460.8x403.2 with 1 Axes>"
      ]
     },
     "metadata": {},
     "output_type": "display_data"
    }
   ],
   "source": [
    "# print the parameters\n",
    "params_ = support_model.get_params()\n",
    "params = pd.DataFrame(list(params_.items()), columns=['parameter', 'value'])\n",
    "#params = pd.DataFrame(params_, index=['values']).T.reindex()\n",
    "\n",
    "display(params)\n",
    "\n",
    "# show accuracies\n",
    "print(\"Training set accuracy: {}\".format(support_model.score(trainX, trainY)))\n",
    "print(\"Test set accuracy: {}\".format(support_model.score(testX, testY)))\n",
    "\n",
    "\n",
    "# plot the data\n",
    "fig, ax = plt.subplots()\n",
    "\n",
    "ax.set_ylabel('petal width')\n",
    "ax.set_xlabel('petal length')\n",
    "ax.set_title(\"Iris Classes by Petal Shape\")\n",
    "\n",
    "ax.scatter(features[:,0], \n",
    "           features[:,1], \n",
    "           c=encoded_labels,)"
   ]
  },
  {
   "cell_type": "markdown",
   "metadata": {},
   "source": [
    "## SVM - MNIST Handwritten Digits"
   ]
  },
  {
   "cell_type": "code",
   "execution_count": 1,
   "metadata": {
    "ExecuteTime": {
     "end_time": "2019-03-02T09:16:51.046851Z",
     "start_time": "2019-03-02T09:16:48.780988Z"
    }
   },
   "outputs": [],
   "source": [
    "import matplotlib.pyplot as plt\n",
    "from sklearn.model_selection import train_test_split\n",
    "import numpy as np \n",
    "import pandas as pd\n",
    "\n",
    "from sklearn import svm"
   ]
  },
  {
   "cell_type": "code",
   "execution_count": 32,
   "metadata": {
    "ExecuteTime": {
     "end_time": "2019-03-02T09:31:31.420254Z",
     "start_time": "2019-03-02T09:31:25.894090Z"
    }
   },
   "outputs": [],
   "source": [
    "# import the data\n",
    "data = pd.read_csv('data/mnist/train.csv')\n",
    "data = data.values"
   ]
  },
  {
   "cell_type": "code",
   "execution_count": 23,
   "metadata": {
    "ExecuteTime": {
     "end_time": "2019-03-02T09:28:35.591485Z",
     "start_time": "2019-03-02T09:28:35.586471Z"
    },
    "scrolled": true
   },
   "outputs": [
    {
     "name": "stdout",
     "output_type": "stream",
     "text": [
      "Help on function train_test_split in module sklearn.model_selection._split:\n",
      "\n",
      "train_test_split(*arrays, **options)\n",
      "    Split arrays or matrices into random train and test subsets\n",
      "    \n",
      "    Quick utility that wraps input validation and\n",
      "    ``next(ShuffleSplit().split(X, y))`` and application to input data\n",
      "    into a single call for splitting (and optionally subsampling) data in a\n",
      "    oneliner.\n",
      "    \n",
      "    Read more in the :ref:`User Guide <cross_validation>`.\n",
      "    \n",
      "    Parameters\n",
      "    ----------\n",
      "    *arrays : sequence of indexables with same length / shape[0]\n",
      "        Allowed inputs are lists, numpy arrays, scipy-sparse\n",
      "        matrices or pandas dataframes.\n",
      "    \n",
      "    test_size : float, int or None, optional (default=0.25)\n",
      "        If float, should be between 0.0 and 1.0 and represent the proportion\n",
      "        of the dataset to include in the test split. If int, represents the\n",
      "        absolute number of test samples. If None, the value is set to the\n",
      "        complement of the train size. By default, the value is set to 0.25.\n",
      "        The default will change in version 0.21. It will remain 0.25 only\n",
      "        if ``train_size`` is unspecified, otherwise it will complement\n",
      "        the specified ``train_size``.\n",
      "    \n",
      "    train_size : float, int, or None, (default=None)\n",
      "        If float, should be between 0.0 and 1.0 and represent the\n",
      "        proportion of the dataset to include in the train split. If\n",
      "        int, represents the absolute number of train samples. If None,\n",
      "        the value is automatically set to the complement of the test size.\n",
      "    \n",
      "    random_state : int, RandomState instance or None, optional (default=None)\n",
      "        If int, random_state is the seed used by the random number generator;\n",
      "        If RandomState instance, random_state is the random number generator;\n",
      "        If None, the random number generator is the RandomState instance used\n",
      "        by `np.random`.\n",
      "    \n",
      "    shuffle : boolean, optional (default=True)\n",
      "        Whether or not to shuffle the data before splitting. If shuffle=False\n",
      "        then stratify must be None.\n",
      "    \n",
      "    stratify : array-like or None (default=None)\n",
      "        If not None, data is split in a stratified fashion, using this as\n",
      "        the class labels.\n",
      "    \n",
      "    Returns\n",
      "    -------\n",
      "    splitting : list, length=2 * len(arrays)\n",
      "        List containing train-test split of inputs.\n",
      "    \n",
      "        .. versionadded:: 0.16\n",
      "            If the input is sparse, the output will be a\n",
      "            ``scipy.sparse.csr_matrix``. Else, output type is the same as the\n",
      "            input type.\n",
      "    \n",
      "    Examples\n",
      "    --------\n",
      "    >>> import numpy as np\n",
      "    >>> from sklearn.model_selection import train_test_split\n",
      "    >>> X, y = np.arange(10).reshape((5, 2)), range(5)\n",
      "    >>> X\n",
      "    array([[0, 1],\n",
      "           [2, 3],\n",
      "           [4, 5],\n",
      "           [6, 7],\n",
      "           [8, 9]])\n",
      "    >>> list(y)\n",
      "    [0, 1, 2, 3, 4]\n",
      "    \n",
      "    >>> X_train, X_test, y_train, y_test = train_test_split(\n",
      "    ...     X, y, test_size=0.33, random_state=42)\n",
      "    ...\n",
      "    >>> X_train\n",
      "    array([[4, 5],\n",
      "           [0, 1],\n",
      "           [6, 7]])\n",
      "    >>> y_train\n",
      "    [2, 0, 3]\n",
      "    >>> X_test\n",
      "    array([[2, 3],\n",
      "           [8, 9]])\n",
      "    >>> y_test\n",
      "    [1, 4]\n",
      "    \n",
      "    >>> train_test_split(y, shuffle=False)\n",
      "    [[0, 1, 2], [3, 4]]\n",
      "\n"
     ]
    }
   ],
   "source": [
    "help(train_test_split)"
   ]
  },
  {
   "cell_type": "code",
   "execution_count": 42,
   "metadata": {
    "ExecuteTime": {
     "end_time": "2019-03-02T09:33:41.838022Z",
     "start_time": "2019-03-02T09:33:41.118955Z"
    }
   },
   "outputs": [],
   "source": [
    "X_train, X_test, Y_train, Y_test = train_test_split(data[:,1:], data[:,0], test_size=0.33, random_state=42)"
   ]
  },
  {
   "cell_type": "code",
   "execution_count": 10,
   "metadata": {
    "ExecuteTime": {
     "end_time": "2019-03-02T09:24:11.339904Z",
     "start_time": "2019-03-02T09:24:09.857171Z"
    }
   },
   "outputs": [
    {
     "name": "stderr",
     "output_type": "stream",
     "text": [
      "C:\\Users\\allen\\Miniconda3\\envs\\idp\\lib\\site-packages\\sklearn\\utils\\validation.py:590: DataConversionWarning: Data with input dtype int64 was converted to float64 by StandardScaler.\n",
      "  warnings.warn(msg, DataConversionWarning)\n",
      "C:\\Users\\allen\\Miniconda3\\envs\\idp\\lib\\site-packages\\sklearn\\utils\\validation.py:590: DataConversionWarning: Data with input dtype int64 was converted to float64 by StandardScaler.\n",
      "  warnings.warn(msg, DataConversionWarning)\n",
      "C:\\Users\\allen\\Miniconda3\\envs\\idp\\lib\\site-packages\\sklearn\\utils\\validation.py:590: DataConversionWarning: Data with input dtype int64 was converted to float64 by StandardScaler.\n",
      "  warnings.warn(msg, DataConversionWarning)\n"
     ]
    },
    {
     "ename": "ValueError",
     "evalue": "operands could not be broadcast together with shapes (28000,784) (785,) (28000,784) ",
     "output_type": "error",
     "traceback": [
      "\u001b[1;31m---------------------------------------------------------------------------\u001b[0m",
      "\u001b[1;31mValueError\u001b[0m                                Traceback (most recent call last)",
      "\u001b[1;32m<ipython-input-10-6019c351d57a>\u001b[0m in \u001b[0;36m<module>\u001b[1;34m()\u001b[0m\n\u001b[0;32m      3\u001b[0m \u001b[1;33m\u001b[0m\u001b[0m\n\u001b[0;32m      4\u001b[0m \u001b[0mstdscaler\u001b[0m\u001b[1;33m.\u001b[0m\u001b[0mfit_transform\u001b[0m\u001b[1;33m(\u001b[0m\u001b[0mtrain_\u001b[0m\u001b[1;33m)\u001b[0m\u001b[1;33m\u001b[0m\u001b[0m\n\u001b[1;32m----> 5\u001b[1;33m \u001b[0mstdscaler\u001b[0m\u001b[1;33m.\u001b[0m\u001b[0mtransform\u001b[0m\u001b[1;33m(\u001b[0m\u001b[0mtest_\u001b[0m\u001b[1;33m)\u001b[0m\u001b[1;33m\u001b[0m\u001b[0m\n\u001b[0m",
      "\u001b[1;32m~\\Miniconda3\\envs\\idp\\lib\\site-packages\\sklearn\\preprocessing\\data.py\u001b[0m in \u001b[0;36mtransform\u001b[1;34m(self, X, y, copy)\u001b[0m\n\u001b[0;32m    753\u001b[0m         \u001b[1;32melse\u001b[0m\u001b[1;33m:\u001b[0m\u001b[1;33m\u001b[0m\u001b[0m\n\u001b[0;32m    754\u001b[0m             \u001b[1;32mif\u001b[0m \u001b[0mself\u001b[0m\u001b[1;33m.\u001b[0m\u001b[0mwith_mean\u001b[0m\u001b[1;33m:\u001b[0m\u001b[1;33m\u001b[0m\u001b[0m\n\u001b[1;32m--> 755\u001b[1;33m                 \u001b[0mX\u001b[0m \u001b[1;33m-=\u001b[0m \u001b[0mself\u001b[0m\u001b[1;33m.\u001b[0m\u001b[0mmean_\u001b[0m\u001b[1;33m\u001b[0m\u001b[0m\n\u001b[0m\u001b[0;32m    756\u001b[0m             \u001b[1;32mif\u001b[0m \u001b[0mself\u001b[0m\u001b[1;33m.\u001b[0m\u001b[0mwith_std\u001b[0m\u001b[1;33m:\u001b[0m\u001b[1;33m\u001b[0m\u001b[0m\n\u001b[0;32m    757\u001b[0m                 \u001b[0mX\u001b[0m \u001b[1;33m/=\u001b[0m \u001b[0mself\u001b[0m\u001b[1;33m.\u001b[0m\u001b[0mscale_\u001b[0m\u001b[1;33m\u001b[0m\u001b[0m\n",
      "\u001b[1;31mValueError\u001b[0m: operands could not be broadcast together with shapes (28000,784) (785,) (28000,784) "
     ]
    }
   ],
   "source": [
    "from sklearn.preprocessing import StandardScaler\n",
    "stdscaler = StandardScaler()\n",
    "\n",
    "stdscaler.fit_transform(train)\n",
    "stdscaler.transform(test)"
   ]
  },
  {
   "cell_type": "code",
   "execution_count": 43,
   "metadata": {
    "ExecuteTime": {
     "end_time": "2019-03-02T09:33:43.314120Z",
     "start_time": "2019-03-02T09:33:43.310132Z"
    }
   },
   "outputs": [],
   "source": [
    "# linear SVM\n",
    "support_model = svm.LinearSVC()#max_iter=10000)"
   ]
  },
  {
   "cell_type": "code",
   "execution_count": 44,
   "metadata": {
    "ExecuteTime": {
     "end_time": "2019-03-02T09:39:49.529029Z",
     "start_time": "2019-03-02T09:33:43.584814Z"
    }
   },
   "outputs": [
    {
     "name": "stdout",
     "output_type": "stream",
     "text": [
      "LinearSVC with Bagging 0.8994227994227995\n"
     ]
    }
   ],
   "source": [
    "from sklearn.ensemble import BaggingClassifier\n",
    "from sklearn.multiclass import OneVsRestClassifier\n",
    "\n",
    "n_estimators = 10\n",
    "clf = OneVsRestClassifier(BaggingClassifier(support_model, \n",
    "                                            max_samples = 1.0 / n_estimators, \n",
    "                                            n_estimators = n_estimators), n_jobs=-1)\n",
    "\n",
    "clf.fit(X_train, Y_train)\n",
    "\n",
    "\n",
    "print(\"LinearSVC with Bagging\", clf.score(X_test, Y_test))\n",
    "predictions = clf.predict(X_test)"
   ]
  },
  {
   "cell_type": "markdown",
   "metadata": {},
   "source": [
    "## Gradient Descent Algorithms Compared\n",
    "\n",
    "Generate data for a quadratic model plus noise. Apply SGD, miniBatch GD, and batch GD. Compare the learning curves."
   ]
  },
  {
   "cell_type": "code",
   "execution_count": 58,
   "metadata": {
    "ExecuteTime": {
     "end_time": "2019-03-02T23:48:26.779006Z",
     "start_time": "2019-03-02T23:48:26.769506Z"
    }
   },
   "outputs": [],
   "source": [
    "# Essential imports\n",
    "import numpy as np\n",
    "import statistics as st\n",
    "import matplotlib.pyplot as plt\n",
    "%matplotlib inline"
   ]
  },
  {
   "cell_type": "code",
   "execution_count": 59,
   "metadata": {
    "ExecuteTime": {
     "end_time": "2019-03-02T23:48:27.172319Z",
     "start_time": "2019-03-02T23:48:27.164094Z"
    }
   },
   "outputs": [],
   "source": [
    "# import jtplot submodule from jupyterthemes to style our plots\n",
    "from jupyterthemes import jtplot\n",
    "jtplot.style()"
   ]
  },
  {
   "cell_type": "code",
   "execution_count": 60,
   "metadata": {
    "ExecuteTime": {
     "end_time": "2019-03-02T23:48:27.494929Z",
     "start_time": "2019-03-02T23:48:27.489207Z"
    }
   },
   "outputs": [],
   "source": [
    "# Import learning tools\n",
    "from sklearn.linear_model import  LinearRegression\n",
    "from sklearn.metrics import mean_squared_error, r2_score\n",
    "from sklearn.preprocessing import PolynomialFeatures"
   ]
  },
  {
   "cell_type": "code",
   "execution_count": 61,
   "metadata": {
    "ExecuteTime": {
     "end_time": "2019-03-02T23:48:27.784435Z",
     "start_time": "2019-03-02T23:48:27.778991Z"
    }
   },
   "outputs": [],
   "source": [
    "# probability density function of a gaussian random variable\n",
    "# note that this is a normal distrubution, so (mean = median = mode)\n",
    "p_g = lambda x, mean, variance : 1/np.sqrt(2*np.pi*variance)*np.exp(-((x-mean)**2)/(2*variance))"
   ]
  },
  {
   "cell_type": "code",
   "execution_count": 62,
   "metadata": {
    "ExecuteTime": {
     "end_time": "2019-03-02T23:48:28.083896Z",
     "start_time": "2019-03-02T23:48:28.075894Z"
    }
   },
   "outputs": [],
   "source": [
    "# function that generates a set of points that are a random, constrained distance\n",
    "# from our ideal quadratic curve\n",
    "data_gen = lambda x : (0.5)*x**2 + np.random.normal(0,1)\n",
    "\n",
    "# generate our input points in the x-dimension\n",
    "x = np.linspace(-3,3,100)\n",
    "\n",
    "# generate our synthetic dataset (aka the y-values of scatterplot points)\n",
    "data = [data_gen(i) for i in x]\n",
    "\n",
    "# prepare synthetic dataset graph for regression\n",
    "#x = np.linspace(-3,3,100)\n",
    "x = x[:, np.newaxis]\n",
    "\n",
    "y = np.asarray(data)\n",
    "y = y[:, np.newaxis]"
   ]
  },
  {
   "cell_type": "code",
   "execution_count": 64,
   "metadata": {
    "ExecuteTime": {
     "end_time": "2019-03-02T23:50:43.277392Z",
     "start_time": "2019-03-02T23:50:43.022349Z"
    }
   },
   "outputs": [
    {
     "data": {
      "text/plain": [
       "<matplotlib.collections.PathCollection at 0x19cb3e76c50>"
      ]
     },
     "execution_count": 64,
     "metadata": {},
     "output_type": "execute_result"
    },
    {
     "data": {
      "image/png": "[encoded data removed]",
      "text/plain": [
       "<Figure size 1080x720 with 1 Axes>"
      ]
     },
     "metadata": {},
     "output_type": "display_data"
    }
   ],
   "source": [
    "# plot it\n",
    "plt.figure(figsize=(15,10))\n",
    "\n",
    "    # raw synthetic dataset\n",
    "plt.scatter(x, y)"
   ]
  },
  {
   "cell_type": "code",
   "execution_count": null,
   "metadata": {},
   "outputs": [],
   "source": []
  }
 ],
 "metadata": {
  "kernelspec": {
   "display_name": "Python 3",
   "language": "python",
   "name": "python3"
  },
  "language_info": {
   "codemirror_mode": {
    "name": "ipython",
    "version": 3
   },
   "file_extension": ".py",
   "mimetype": "text/x-python",
   "name": "python",
   "nbconvert_exporter": "python",
   "pygments_lexer": "ipython3",
   "version": "3.6.5"
  },
  "toc": {
   "base_numbering": 1,
   "nav_menu": {},
   "number_sections": true,
   "sideBar": true,
   "skip_h1_title": false,
   "title_cell": "Table of Contents",
   "title_sidebar": "Contents",
   "toc_cell": true,
   "toc_position": {},
   "toc_section_display": true,
   "toc_window_display": false
  }
 },
 "nbformat": 4,
 "nbformat_minor": 2
}
