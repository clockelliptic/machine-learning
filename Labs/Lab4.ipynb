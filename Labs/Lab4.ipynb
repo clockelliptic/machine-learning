{
 "cells": [
  {
   "cell_type": "markdown",
   "metadata": {},
   "source": [
    "# Lab 4\n",
    "- Use 1R on the housing dataset.\n",
    "\n",
    "\n",
    "- Use J48 (or other algorithm) with 2 different parameter settings to create 2 decision trees for the weather dataset. Compute the average information for the leaf nodes.\n",
    "\n",
    "\n",
    "- Compute the information for the root node. How much information is gained from each tree? Summarize your results.\n",
    "\n",
    "\n",
    "- Regression: Using the equation\n",
    "$$y = \\frac{1}{2} x^2 + x + 2 + p_{G}(x)$$ or \n",
    "$$y = \\frac{1}{2} x^2 + x + 2 + GaussNoise(N[0, 1])$$ \n",
    "where $p_{G}(x)$ is the probability density function $p$ of a Gaussian (normally distributed) random variable $z$ such that \n",
    "$$p_{G}(x) = f(x|\\mu, \\sigma^{2}) = \\frac{1}{\\sqrt{2\\pi\\sigma^{2}}}e^{-\\frac{(x-\\mu)^2}{2\\sigma^2}}$$ \n",
    "with \n",
    "   - $\\mu$ as the mean (as well as its median and mode) of the distribution\n",
    "   - $\\sigma$ is the standard deviation\n",
    "   - $\\sigma^2$ is the variance\n",
    " \n",
    " Then generate a synthetic data set with x values from -3 to +3 and fit a quadratic model and plot the solution and the data points.\n",
    "\n",
    "\n"
   ]
  },
  {
   "cell_type": "code",
   "execution_count": 1,
   "metadata": {
    "ExecuteTime": {
     "end_time": "2019-03-02T23:48:55.228590Z",
     "start_time": "2019-03-02T23:48:40.661064Z"
    }
   },
   "outputs": [
    {
     "data": {
      "text/plain": [
       "<BarContainer object of 21 artists>"
      ]
     },
     "execution_count": 1,
     "metadata": {},
     "output_type": "execute_result"
    },
    {
     "data": {
      "image/png": "[encoded data removed]",
      "text/plain": [
       "<Figure size 720x504 with 1 Axes>"
      ]
     },
     "metadata": {},
     "output_type": "display_data"
    }
   ],
   "source": [
    "# Essential imports\n",
    "import numpy as np\n",
    "import statistics as st\n",
    "import matplotlib.pyplot as plt\n",
    "%matplotlib inline\n",
    "\n",
    "# import jtplot submodule from jupyterthemes to style our plots\n",
    "from jupyterthemes import jtplot\n",
    "jtplot.style()\n",
    "\n",
    "# Import learning tools\n",
    "from sklearn.linear_model import  LinearRegression\n",
    "from sklearn.metrics import mean_squared_error, r2_score\n",
    "from sklearn.preprocessing import PolynomialFeatures\n",
    "\n",
    "\n",
    "# probability density function of a gaussian random variable\n",
    "# note that this is a normal distrubution, so (mean = median = mode)\n",
    "p_g = lambda x, mean, variance : 1/np.sqrt(2*np.pi*variance)*np.exp(-((x-mean)**2)/(2*variance))\n",
    "\n",
    "\n",
    "# plot the normal distribution bar graph\n",
    "data = [p_g(i, 10, 3) for i in range(21)]\n",
    "fig = plt.figure(figsize = (10, 7))\n",
    "plt.bar(list(range(21)), data)"
   ]
  },
  {
   "cell_type": "code",
   "execution_count": 2,
   "metadata": {
    "ExecuteTime": {
     "end_time": "2019-03-02T23:48:55.536194Z",
     "start_time": "2019-03-02T23:48:55.232131Z"
    }
   },
   "outputs": [
    {
     "ename": "RuntimeError",
     "evalue": "Failed to solve the system of normal equations\n",
     "output_type": "error",
     "traceback": [
      "\u001b[1;31m---------------------------------------------------------------------------\u001b[0m",
      "\u001b[1;31mRuntimeError\u001b[0m                              Traceback (most recent call last)",
      "\u001b[1;32m<ipython-input-2-e1d281ce26dd>\u001b[0m in \u001b[0;36m<module>\u001b[1;34m()\u001b[0m\n\u001b[0;32m     28\u001b[0m \u001b[0mpolynomial_features\u001b[0m \u001b[1;33m=\u001b[0m \u001b[0mPolynomialFeatures\u001b[0m\u001b[1;33m(\u001b[0m\u001b[0mdegree\u001b[0m\u001b[1;33m=\u001b[0m\u001b[1;36m2\u001b[0m\u001b[1;33m)\u001b[0m\u001b[1;33m\u001b[0m\u001b[0m\n\u001b[0;32m     29\u001b[0m \u001b[0mx_poly\u001b[0m \u001b[1;33m=\u001b[0m \u001b[0mpolynomial_features\u001b[0m\u001b[1;33m.\u001b[0m\u001b[0mfit_transform\u001b[0m\u001b[1;33m(\u001b[0m\u001b[0mx\u001b[0m\u001b[1;33m)\u001b[0m\u001b[1;33m\u001b[0m\u001b[0m\n\u001b[1;32m---> 30\u001b[1;33m \u001b[0mmodel\u001b[0m\u001b[1;33m.\u001b[0m\u001b[0mfit\u001b[0m\u001b[1;33m(\u001b[0m\u001b[0mx_poly\u001b[0m\u001b[1;33m,\u001b[0m \u001b[0my\u001b[0m\u001b[1;33m)\u001b[0m\u001b[1;33m\u001b[0m\u001b[0m\n\u001b[0m\u001b[0;32m     31\u001b[0m \u001b[0my_poly_pred\u001b[0m \u001b[1;33m=\u001b[0m \u001b[0mmodel\u001b[0m\u001b[1;33m.\u001b[0m\u001b[0mpredict\u001b[0m\u001b[1;33m(\u001b[0m\u001b[0mx_poly\u001b[0m\u001b[1;33m)\u001b[0m\u001b[1;33m\u001b[0m\u001b[0m\n\u001b[0;32m     32\u001b[0m \u001b[1;33m\u001b[0m\u001b[0m\n",
      "\u001b[1;32m~\\Miniconda3\\envs\\idp\\lib\\site-packages\\sklearn\\daal4sklearn\\linear.py\u001b[0m in \u001b[0;36mfit\u001b[1;34m(self, X, y, sample_weight)\u001b[0m\n\u001b[0;32m     79\u001b[0m             \u001b[1;33m(\u001b[0m\u001b[0mX\u001b[0m\u001b[1;33m.\u001b[0m\u001b[0mdtype\u001b[0m \u001b[1;33m==\u001b[0m \u001b[0mnp\u001b[0m\u001b[1;33m.\u001b[0m\u001b[0mfloat64\u001b[0m \u001b[1;32mor\u001b[0m \u001b[0mX\u001b[0m\u001b[1;33m.\u001b[0m\u001b[0mdtype\u001b[0m \u001b[1;33m==\u001b[0m \u001b[0mnp\u001b[0m\u001b[1;33m.\u001b[0m\u001b[0mfloat32\u001b[0m\u001b[1;33m)\u001b[0m \u001b[1;32mand\u001b[0m\u001b[1;33m\u001b[0m\u001b[0m\n\u001b[0;32m     80\u001b[0m             sample_weight is None):\n\u001b[1;32m---> 81\u001b[1;33m         \u001b[0m_daal4py_fit\u001b[0m\u001b[1;33m(\u001b[0m\u001b[0mself\u001b[0m\u001b[1;33m,\u001b[0m \u001b[0mX\u001b[0m\u001b[1;33m,\u001b[0m \u001b[0my\u001b[0m\u001b[1;33m)\u001b[0m\u001b[1;33m\u001b[0m\u001b[0m\n\u001b[0m\u001b[0;32m     82\u001b[0m         \u001b[1;32mreturn\u001b[0m \u001b[0mself\u001b[0m\u001b[1;33m\u001b[0m\u001b[0m\n\u001b[0;32m     83\u001b[0m \u001b[1;33m\u001b[0m\u001b[0m\n",
      "\u001b[1;32m~\\Miniconda3\\envs\\idp\\lib\\site-packages\\sklearn\\daal4sklearn\\linear.py\u001b[0m in \u001b[0;36m_daal4py_fit\u001b[1;34m(self, X, y)\u001b[0m\n\u001b[0;32m     18\u001b[0m         method='defaultDense')\n\u001b[0;32m     19\u001b[0m \u001b[1;33m\u001b[0m\u001b[0m\n\u001b[1;32m---> 20\u001b[1;33m     \u001b[0mlr_res\u001b[0m \u001b[1;33m=\u001b[0m \u001b[0mlr_algorithm\u001b[0m\u001b[1;33m.\u001b[0m\u001b[0mcompute\u001b[0m\u001b[1;33m(\u001b[0m\u001b[0mX\u001b[0m\u001b[1;33m,\u001b[0m \u001b[0my\u001b[0m\u001b[1;33m)\u001b[0m\u001b[1;33m\u001b[0m\u001b[0m\n\u001b[0m\u001b[0;32m     21\u001b[0m     \u001b[0mlr_model\u001b[0m \u001b[1;33m=\u001b[0m \u001b[0mlr_res\u001b[0m\u001b[1;33m.\u001b[0m\u001b[0mmodel\u001b[0m\u001b[1;33m\u001b[0m\u001b[0m\n\u001b[0;32m     22\u001b[0m     \u001b[0mself\u001b[0m\u001b[1;33m.\u001b[0m\u001b[0mdaal_model_\u001b[0m \u001b[1;33m=\u001b[0m \u001b[0mlr_model\u001b[0m\u001b[1;33m\u001b[0m\u001b[0m\n",
      "\u001b[1;32mbuild\\daal4py_cy.pyx\u001b[0m in \u001b[0;36m_daal4py.linear_regression_training.compute\u001b[1;34m()\u001b[0m\n",
      "\u001b[1;31mRuntimeError\u001b[0m: Failed to solve the system of normal equations\n"
     ]
    }
   ],
   "source": [
    "# hand code a quadratic function using the Gaussian Probability function\n",
    "# so we can compare to our regression/interpolation\n",
    "quadratic_model = lambda x : (0.5)*x**2 + p_g(x, 10, 2)\n",
    "\n",
    "# function that generates a set of points that are a random, constrained distance\n",
    "# from our ideal quadratic curve\n",
    "data_gen = lambda x : (0.5)*x**2 + np.random.normal(0,1)\n",
    "\n",
    "# generate our input points in the x-dimension\n",
    "x = np.linspace(-3,3,100)\n",
    "\n",
    "# generate our synthetic dataset (aka the y-values of scatterplot points)\n",
    "data___ = [data_gen(i) for i in x]\n",
    "\n",
    "# prepare synthetic dataset graph for regression\n",
    "#x = np.linspace(-3,3,100)\n",
    "x = x[:, np.newaxis]\n",
    "\n",
    "y = np.asarray(data___)\n",
    "y = y[:, np.newaxis]\n",
    "\n",
    "# linear fit\n",
    "model = LinearRegression()\n",
    "model.fit(x, y)\n",
    "y_pred = model.predict(x)\n",
    "\n",
    "# polynomial regression fit\n",
    "polynomial_features = PolynomialFeatures(degree=2)\n",
    "x_poly = polynomial_features.fit_transform(x)\n",
    "model.fit(x_poly, y)\n",
    "y_poly_pred = model.predict(x_poly)\n",
    "\n",
    "# ideal polynomial fit\n",
    "y_ideal = quadratic_model(x)\n",
    "\n",
    "# calculate regression metrics\n",
    "print(\"Metrics of polynomial regression:\")\n",
    "rmse = np.sqrt(mean_squared_error(y,y_poly_pred))\n",
    "r2 = r2_score(y,y_poly_pred)\n",
    "print(\"  RMSE: \", rmse)\n",
    "print(\"  R2: \", r2)\n",
    "print(\"-------------------------------------\")\n",
    "# calculate ideal metrics\n",
    "print(\"Metrics of ideal equation:\")\n",
    "rmse = np.sqrt(mean_squared_error(y,y_ideal))\n",
    "r2 = r2_score(y,y_ideal)\n",
    "print(\"  RMSE: \", rmse)\n",
    "print(\"  R2: \", r2)\n",
    "\n",
    "# plot it\n",
    "plt.figure(figsize=(15,10))\n",
    "\n",
    "    # raw synthetic dataset\n",
    "plt.scatter(x, y)\n",
    "    # linear fit\n",
    "plt.plot(x, y_pred, color='g')\n",
    "    # polynomial fit\n",
    "plt.plot(x, y_poly_pred, linewidth=3, color='r')\n",
    "    # hand-coded quadratic function\n",
    "plt.plot(x, y_ideal, '--', linewidth=3, color='y')"
   ]
  },
  {
   "cell_type": "code",
   "execution_count": null,
   "metadata": {},
   "outputs": [],
   "source": []
  },
  {
   "cell_type": "code",
   "execution_count": null,
   "metadata": {},
   "outputs": [],
   "source": []
  }
 ],
 "metadata": {
  "kernelspec": {
   "display_name": "Python 3",
   "language": "python",
   "name": "python3"
  },
  "language_info": {
   "codemirror_mode": {
    "name": "ipython",
    "version": 3
   },
   "file_extension": ".py",
   "mimetype": "text/x-python",
   "name": "python",
   "nbconvert_exporter": "python",
   "pygments_lexer": "ipython3",
   "version": "3.6.5"
  },
  "toc": {
   "base_numbering": 1,
   "nav_menu": {},
   "number_sections": true,
   "sideBar": true,
   "skip_h1_title": false,
   "title_cell": "Table of Contents",
   "title_sidebar": "Contents",
   "toc_cell": false,
   "toc_position": {},
   "toc_section_display": true,
   "toc_window_display": false
  }
 },
 "nbformat": 4,
 "nbformat_minor": 2
}
