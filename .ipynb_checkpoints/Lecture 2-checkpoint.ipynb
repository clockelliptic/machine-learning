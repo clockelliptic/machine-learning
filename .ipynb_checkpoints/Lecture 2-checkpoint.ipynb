{
 "cells": [
  {
   "cell_type": "markdown",
   "metadata": {},
   "source": [
    "# Lecture 2: More Decision Trees; Visualizing Features\n",
    "\n",
    "https://towardsdatascience.com/decision-trees-in-machine-learning-641b9c4e8052\n",
    "\n",
    "https://towardsdatascience.com/a-guide-to-decision-trees-for-machine-learning-and-data-science-fe2607241956"
   ]
  },
  {
   "cell_type": "code",
   "execution_count": 21,
   "metadata": {},
   "outputs": [],
   "source": [
    "## Data Key:\n",
    "\n",
    "# `play`: {1: play, 2: no play}\n",
    "# `temp`: {3 = hot, 2 = mild, 3 = cool}\n",
    "# `humi`: {2 = high, 1 = normal}"
   ]
  },
  {
   "cell_type": "code",
   "execution_count": 1,
   "metadata": {},
   "outputs": [],
   "source": [
    "import matplotlib.pyplot as plt\n",
    "import numpy as np\n",
    "import collections\n",
    "\n",
    "play = [0,0,1,1,1,0,1,0,1,1,1,1,1,0]\n",
    "temp = [3,3,3,2,1,1,1,2,1,2,2,2,3,2]\n",
    "humi = [2,2,2,2,1,1,1,2,1,1,1,2,1,2]\n",
    "\n",
    "data = np.asarray([play, temp, humi])\n",
    "\n",
    "#plt.scatter(play, temp)"
   ]
  },
  {
   "cell_type": "code",
   "execution_count": 16,
   "metadata": {},
   "outputs": [
    {
     "data": {
      "text/plain": [
       "array([[0, 1],\n",
       "       [0, 1],\n",
       "       [0, 1],\n",
       "       [0, 1],\n",
       "       [0, 2],\n",
       "       [1, 2],\n",
       "       [1, 2],\n",
       "       [1, 2],\n",
       "       [1, 2],\n",
       "       [1, 2],\n",
       "       [1, 3],\n",
       "       [1, 3],\n",
       "       [1, 3],\n",
       "       [1, 3]])"
      ]
     },
     "execution_count": 16,
     "metadata": {},
     "output_type": "execute_result"
    }
   ],
   "source": [
    "# sort data according to temp\n",
    "\n",
    "temp_sort = np.asarray([data[0,:],data[1,:]]).T\n",
    "temp_sort"
   ]
  },
  {
   "cell_type": "code",
   "execution_count": 28,
   "metadata": {},
   "outputs": [],
   "source": [
    "hot_temp = np.asarray([i for i in temp_sort if i[1] == 1])\n",
    "mild_temp = np.asarray([i for i in temp_sort if i[1] == 2])\n",
    "cool_temp = np.asarray([i for i in temp_sort if i[1] == 3])"
   ]
  },
  {
   "cell_type": "code",
   "execution_count": 42,
   "metadata": {},
   "outputs": [
    {
     "data": {
      "text/plain": [
       "array([[0, 1],\n",
       "       [0, 1],\n",
       "       [0, 1],\n",
       "       [0, 1]])"
      ]
     },
     "execution_count": 42,
     "metadata": {},
     "output_type": "execute_result"
    }
   ],
   "source": [
    "hot_temp"
   ]
  },
  {
   "cell_type": "code",
   "execution_count": 55,
   "metadata": {},
   "outputs": [
    {
     "data": {
      "text/plain": [
       "4"
      ]
     },
     "execution_count": 55,
     "metadata": {},
     "output_type": "execute_result"
    }
   ],
   "source": [
    "collections.Counter(hot_temp[:,0])[0]"
   ]
  },
  {
   "cell_type": "code",
   "execution_count": 82,
   "metadata": {},
   "outputs": [
    {
     "data": {
      "image/png": "[encoded data removed]",
      "text/plain": [
       "<Figure size 576x576 with 1 Axes>"
      ]
     },
     "metadata": {
      "needs_background": "light"
     },
     "output_type": "display_data"
    }
   ],
   "source": [
    "# plot it\n",
    "\n",
    "plt.figure(figsize=(8,8))\n",
    "\n",
    "ind = np.arange(len(play))\n",
    "width = 0.3\n",
    "\n",
    "# games not-played\n",
    "p1 = plt.bar(x = [\"hot\"], height = collections.Counter(hot_temp[:,0])[0], width = width,\n",
    "            color='orange')\n",
    "p2 = plt.bar(x = [\"mild\"], height = collections.Counter(mild_temp[:,0])[0], width = width,\n",
    "            color='orange')\n",
    "p3 = plt.bar(x = [\"cool\"], height = collections.Counter(cool_temp[:,0])[0], width = width,\n",
    "            color='orange')\n",
    "\n",
    "\n",
    "# games played\n",
    "p4 = plt.bar(x = [\"hot\"], height = collections.Counter(hot_temp[:,0])[1], width = width,\n",
    "            bottom = collections.Counter(hot_temp[:,0])[0], color='blue')\n",
    "p5 = plt.bar(x = [\"mild\"], height = collections.Counter(mild_temp[:,0])[1], width = width,\n",
    "            bottom = collections.Counter(mild_temp[:,0])[0], color='blue')\n",
    "p6= plt.bar(x = [\"cool\"], height = collections.Counter(cool_temp[:,0])[1], width = width,\n",
    "           bottom = collections.Counter(cool_temp[:,0])[0], color='blue')\n",
    "\n",
    "plt.legend((p4[0], p1[0]),('Games Played', 'Games Not-Played'))\n",
    "\n",
    "plt.title('Temperature vs. Games Played/Not-Played')\n",
    "plt.ylabel(\"Number of games\")\n",
    "plt.xlabel(\"Temperature\")\n",
    "\n",
    "plt.show()"
   ]
  },
  {
   "cell_type": "code",
   "execution_count": 38,
   "metadata": {},
   "outputs": [
    {
     "data": {
      "text/plain": [
       "array([[0, 1],\n",
       "       [0, 1],\n",
       "       [0, 1],\n",
       "       [0, 1],\n",
       "       [0, 1],\n",
       "       [1, 1],\n",
       "       [1, 1],\n",
       "       [1, 2],\n",
       "       [1, 2],\n",
       "       [1, 2],\n",
       "       [1, 2],\n",
       "       [1, 2],\n",
       "       [1, 2],\n",
       "       [1, 2]])"
      ]
     },
     "execution_count": 38,
     "metadata": {},
     "output_type": "execute_result"
    }
   ],
   "source": [
    "#sort data according to humidity\n",
    "\n",
    "humi_sort = np.asarray([data[0,:],data[2,:]]).T\n",
    "humi_sort"
   ]
  },
  {
   "cell_type": "code",
   "execution_count": 72,
   "metadata": {},
   "outputs": [],
   "source": [
    "high_humi = np.asarray([i for i in humi_sort if i[1] == 1])\n",
    "norm_humi = np.asarray([i for i in humi_sort if i[1] == 2])"
   ]
  },
  {
   "cell_type": "code",
   "execution_count": 73,
   "metadata": {},
   "outputs": [
    {
     "data": {
      "text/plain": [
       "array([[1, 2],\n",
       "       [1, 2],\n",
       "       [1, 2],\n",
       "       [1, 2],\n",
       "       [1, 2],\n",
       "       [1, 2],\n",
       "       [1, 2]])"
      ]
     },
     "execution_count": 73,
     "metadata": {},
     "output_type": "execute_result"
    }
   ],
   "source": [
    "norm_humi"
   ]
  },
  {
   "cell_type": "code",
   "execution_count": 81,
   "metadata": {},
   "outputs": [
    {
     "data": {
      "image/png": "[encoded data removed]",
      "text/plain": [
       "<Figure size 576x576 with 1 Axes>"
      ]
     },
     "metadata": {
      "needs_background": "light"
     },
     "output_type": "display_data"
    }
   ],
   "source": [
    "# plot it\n",
    "\n",
    "plt.figure(figsize=(8,8))\n",
    "\n",
    "ind = np.arange(len(play))\n",
    "width = 0.3\n",
    "\n",
    "# games not-played\n",
    "p1 = plt.bar(x = [\"high\"], height = collections.Counter(high_humi[:,0])[0], width = width,\n",
    "            color='orange')\n",
    "p2 = plt.bar(x = [\"normal\"], height = collections.Counter(high_humi[:,0])[0], width = width,\n",
    "            color='orange')\n",
    "\n",
    "# games played\n",
    "p3 = plt.bar(x = [\"high\"], height = collections.Counter(high_humi[:,0])[1], width = width,\n",
    "            bottom = collections.Counter(high_humi[:,0])[0], color='blue')\n",
    "p4 = plt.bar(x = [\"normal\"], height = collections.Counter(norm_humi[:,0])[1], width = width,\n",
    "            bottom = collections.Counter(norm_humi[:,0])[0], color='blue')\n",
    "\n",
    "plt.legend((p4[0], p1[0]),('Games Played', 'Games Not-Played'))\n",
    "\n",
    "plt.title('Humidity vs. Games Played/Not-Played')\n",
    "plt.ylabel(\"Number of games\")\n",
    "plt.xlabel(\"Humidity\")\n",
    "\n",
    "plt.show()"
   ]
  },
  {
   "cell_type": "code",
   "execution_count": null,
   "metadata": {},
   "outputs": [],
   "source": []
  }
 ],
 "metadata": {
  "kernelspec": {
   "display_name": "Python 3",
   "language": "python",
   "name": "python3"
  },
  "language_info": {
   "codemirror_mode": {
    "name": "ipython",
    "version": 3
   },
   "file_extension": ".py",
   "mimetype": "text/x-python",
   "name": "python",
   "nbconvert_exporter": "python",
   "pygments_lexer": "ipython3",
   "version": "3.6.7"
  },
  "toc": {
   "base_numbering": 1,
   "nav_menu": {},
   "number_sections": true,
   "sideBar": true,
   "skip_h1_title": false,
   "title_cell": "Table of Contents",
   "title_sidebar": "Contents",
   "toc_cell": false,
   "toc_position": {},
   "toc_section_display": true,
   "toc_window_display": false
  }
 },
 "nbformat": 4,
 "nbformat_minor": 2
}
