{
 "cells": [
  {
   "cell_type": "code",
   "execution_count": null,
   "metadata": {},
   "outputs": [],
   "source": []
  },
  {
   "cell_type": "markdown",
   "metadata": {},
   "source": [
    "# HW 3\n",
    "Due Tuesday (week 4). Answer the following questions.\n",
    "\n",
    "1. Define Random forest. How is it used with regression, i.e. random forest regressor?\n",
    "2. Define stochastic gradient descent\n",
    "3. Define grid search. Using the iris dataset and J48, vary the confidence parameter and minimum node size. Find the value that give the greatest accuracy.\n",
    "4. Write a Python function to read a csv file (contact lens dataset)\n",
    "5. Write a Python function to compute standard deviation.\n",
    "6. Run multilayer perceptron on MNIST. Compute precision and recall.\n",
    "7. Read Ch. 4 in TensorFlow book\n",
    "8. Also read Ch4 in Data Mining."
   ]
  },
  {
   "cell_type": "markdown",
   "metadata": {},
   "source": [
    "## Problem 1\n",
    "\n",
    "Define *Random Forest*. How is it used with regression? (i.e. random forest regressor)?"
   ]
  },
  {
   "cell_type": "code",
   "execution_count": null,
   "metadata": {},
   "outputs": [],
   "source": [
    "\"\"\"\n",
    "Random Forest is a technique that randomply partitions data into sub-samples\n",
    "and generates classification trees for each of the the subsamples. Then, the\n",
    "outputs of the trees are analyzed and the error function of the model is\n",
    "minimized by selecting appropriate variables for each node and/or adjusting\n",
    "weights for the regression function based on this output data.\n",
    "\n",
    "Random forest is great because it can significantly reduce computational \n",
    "overhead when used correctly.\n",
    "\"\"\""
   ]
  },
  {
   "cell_type": "markdown",
   "metadata": {},
   "source": [
    "## Problem 2\n",
    "\n",
    "Define stochastic gradient descent"
   ]
  },
  {
   "cell_type": "code",
   "execution_count": null,
   "metadata": {},
   "outputs": [],
   "source": [
    "'''\n",
    "Stochastic Gradient Descent is an iterative, incremental algorithm\n",
    "that works by minimizing the error function of a predictor. It updates\n",
    "its model instance-by-nstance or in small batches.\n",
    "\n",
    "Stochastic Gradient Descent (SGD), like Gradient Descent (GD), updates a \n",
    "set of parameters iteratively in order to minimize the error.\n",
    "\n",
    "The difference is that with SGD, rather than using the entire dataset\n",
    "to update a parameter/weight in a particular iteration, you can use as few\n",
    "as one instance to update a parameter.\n",
    "\n",
    "The reason why SGD is used is because when training on massive datasets\n",
    "it simply takes too long to use the entire dataset to update a parameter.\n",
    "\n",
    "SGD is a close approximate to GD, so its error function won't be quite as\n",
    "optimal, and it converges more quickly, but in the real world it is obviously\n",
    "good enough in many cases.\n",
    "\n",
    "Mathematically thinking, if we imagine this geometrically, GD and SGD attempt\n",
    "to find the quickest downward slope to reach the bottom of a valley. So\n",
    "Gradient Descent techniques find the quickest way \"downhill\" to a minimized\n",
    "error.\n",
    "\n",
    "Stochastic kind of means \"chaotic\" or \"random\", and so we can imagine that \n",
    "the path SGD takes to the bottom of the hill is a little bit zig-zaggy (like \n",
    "a graph of the stock market, or the meandering of a particle in water). It's\n",
    "a bit less direct that GD on account of this.\n",
    "'''"
   ]
  },
  {
   "cell_type": "markdown",
   "metadata": {},
   "source": [
    "## Problem 3\n",
    "\n",
    "Define grid search. Using the iris dataset and J48, vary the confidence parameter and minimum node size. Find the value that give the greatest accuracy."
   ]
  },
  {
   "cell_type": "code",
   "execution_count": null,
   "metadata": {},
   "outputs": [],
   "source": [
    "# Yeah again, this simply isn't working. Like I've said in my labs,\n",
    "# I've searched high and low and can't get this to work."
   ]
  },
  {
   "cell_type": "markdown",
   "metadata": {},
   "source": [
    "## Problem 4\n",
    "\n",
    "Write a Python function to read a csv file (contact lens dataset)"
   ]
  },
  {
   "cell_type": "code",
   "execution_count": 8,
   "metadata": {},
   "outputs": [
    {
     "name": "stdout",
     "output_type": "stream",
     "text": [
      "age, spectacle-prescrip, astigmatism, tear-prod-rate, contact-lenses\n",
      "young, myope, no, reduced, none\n",
      "young, myope, no, normal, soft\n",
      "young, myope, yes, reduced, none\n",
      "young, myope, yes, normal, hard\n",
      "young, hypermetrope, no, reduced, none\n",
      "young, hypermetrope, no, normal, soft\n",
      "young, hypermetrope, yes, reduced, none\n",
      "young, hypermetrope, yes, normal, hard\n",
      "pre-presbyopic, myope, no, reduced, none\n",
      "pre-presbyopic, myope, no, normal, soft\n",
      "pre-presbyopic, myope, yes, reduced, none\n",
      "pre-presbyopic, myope, yes, normal, hard\n",
      "pre-presbyopic, hypermetrope, no, reduced, none\n",
      "pre-presbyopic, hypermetrope, no, normal, soft\n",
      "pre-presbyopic, hypermetrope, yes, reduced, none\n",
      "pre-presbyopic, hypermetrope, yes, normal, none\n",
      "presbyopic, myope, no, reduced, none\n",
      "presbyopic, myope, no, normal, none\n",
      "presbyopic, myope, yes, reduced, none\n",
      "presbyopic, myope, yes, normal, hard\n",
      "presbyopic, hypermetrope, no, reduced, none\n",
      "presbyopic, hypermetrope, no, normal, soft\n",
      "presbyopic, hypermetrope, yes, reduced, none\n",
      "presbyopic, hypermetrope, yes, normal, none\n"
     ]
    }
   ],
   "source": [
    "# We can do this the old fashioned way, which\n",
    "# will be important to know if we want to write\n",
    "# any of our own algorithms from scratch\n",
    "\n",
    "import csv\n",
    "\n",
    "with open('contact-lenses.csv', newline='') as csvdata:\n",
    "        reader = csv.reader(csvdata, delimiter = ',')\n",
    "        for row in reader:\n",
    "            print(', '.join(row))"
   ]
  },
  {
   "cell_type": "code",
   "execution_count": 2,
   "metadata": {},
   "outputs": [
    {
     "name": "stdout",
     "output_type": "stream",
     "text": [
      "               age spectacle-prescrip astigmatism tear-prod-rate  \\\n",
      "0            young              myope          no        reduced   \n",
      "1            young              myope          no         normal   \n",
      "2            young              myope         yes        reduced   \n",
      "3            young              myope         yes         normal   \n",
      "4            young       hypermetrope          no        reduced   \n",
      "5            young       hypermetrope          no         normal   \n",
      "6            young       hypermetrope         yes        reduced   \n",
      "7            young       hypermetrope         yes         normal   \n",
      "8   pre-presbyopic              myope          no        reduced   \n",
      "9   pre-presbyopic              myope          no         normal   \n",
      "10  pre-presbyopic              myope         yes        reduced   \n",
      "11  pre-presbyopic              myope         yes         normal   \n",
      "12  pre-presbyopic       hypermetrope          no        reduced   \n",
      "13  pre-presbyopic       hypermetrope          no         normal   \n",
      "14  pre-presbyopic       hypermetrope         yes        reduced   \n",
      "15  pre-presbyopic       hypermetrope         yes         normal   \n",
      "16      presbyopic              myope          no        reduced   \n",
      "17      presbyopic              myope          no         normal   \n",
      "18      presbyopic              myope         yes        reduced   \n",
      "19      presbyopic              myope         yes         normal   \n",
      "20      presbyopic       hypermetrope          no        reduced   \n",
      "21      presbyopic       hypermetrope          no         normal   \n",
      "22      presbyopic       hypermetrope         yes        reduced   \n",
      "23      presbyopic       hypermetrope         yes         normal   \n",
      "\n",
      "   contact-lenses  \n",
      "0            none  \n",
      "1            soft  \n",
      "2            none  \n",
      "3            hard  \n",
      "4            none  \n",
      "5            soft  \n",
      "6            none  \n",
      "7            hard  \n",
      "8            none  \n",
      "9            soft  \n",
      "10           none  \n",
      "11           hard  \n",
      "12           none  \n",
      "13           soft  \n",
      "14           none  \n",
      "15           none  \n",
      "16           none  \n",
      "17           none  \n",
      "18           none  \n",
      "19           hard  \n",
      "20           none  \n",
      "21           soft  \n",
      "22           none  \n",
      "23           none  \n"
     ]
    }
   ],
   "source": [
    "# Or we can use Pandas to print everything nicely\n",
    "# Plus, Pandas is industry-standard for EDA and stats\n",
    "\n",
    "import pandas as pd\n",
    "print(pd.read_csv('contact-lenses.csv'))"
   ]
  },
  {
   "cell_type": "code",
   "execution_count": 5,
   "metadata": {},
   "outputs": [
    {
     "data": {
      "text/html": [
       "<div>\n",
       "<style scoped>\n",
       "    .dataframe tbody tr th:only-of-type {\n",
       "        vertical-align: middle;\n",
       "    }\n",
       "\n",
       "    .dataframe tbody tr th {\n",
       "        vertical-align: top;\n",
       "    }\n",
       "\n",
       "    .dataframe thead th {\n",
       "        text-align: right;\n",
       "    }\n",
       "</style>\n",
       "<table border=\"1\" class=\"dataframe\">\n",
       "  <thead>\n",
       "    <tr style=\"text-align: right;\">\n",
       "      <th></th>\n",
       "      <th>age</th>\n",
       "      <th>spectacle-prescrip</th>\n",
       "      <th>astigmatism</th>\n",
       "      <th>tear-prod-rate</th>\n",
       "      <th>contact-lenses</th>\n",
       "    </tr>\n",
       "  </thead>\n",
       "  <tbody>\n",
       "    <tr>\n",
       "      <th>0</th>\n",
       "      <td>young</td>\n",
       "      <td>myope</td>\n",
       "      <td>no</td>\n",
       "      <td>reduced</td>\n",
       "      <td>none</td>\n",
       "    </tr>\n",
       "    <tr>\n",
       "      <th>1</th>\n",
       "      <td>young</td>\n",
       "      <td>myope</td>\n",
       "      <td>no</td>\n",
       "      <td>normal</td>\n",
       "      <td>soft</td>\n",
       "    </tr>\n",
       "    <tr>\n",
       "      <th>2</th>\n",
       "      <td>young</td>\n",
       "      <td>myope</td>\n",
       "      <td>yes</td>\n",
       "      <td>reduced</td>\n",
       "      <td>none</td>\n",
       "    </tr>\n",
       "    <tr>\n",
       "      <th>3</th>\n",
       "      <td>young</td>\n",
       "      <td>myope</td>\n",
       "      <td>yes</td>\n",
       "      <td>normal</td>\n",
       "      <td>hard</td>\n",
       "    </tr>\n",
       "    <tr>\n",
       "      <th>4</th>\n",
       "      <td>young</td>\n",
       "      <td>hypermetrope</td>\n",
       "      <td>no</td>\n",
       "      <td>reduced</td>\n",
       "      <td>none</td>\n",
       "    </tr>\n",
       "    <tr>\n",
       "      <th>5</th>\n",
       "      <td>young</td>\n",
       "      <td>hypermetrope</td>\n",
       "      <td>no</td>\n",
       "      <td>normal</td>\n",
       "      <td>soft</td>\n",
       "    </tr>\n",
       "    <tr>\n",
       "      <th>6</th>\n",
       "      <td>young</td>\n",
       "      <td>hypermetrope</td>\n",
       "      <td>yes</td>\n",
       "      <td>reduced</td>\n",
       "      <td>none</td>\n",
       "    </tr>\n",
       "    <tr>\n",
       "      <th>7</th>\n",
       "      <td>young</td>\n",
       "      <td>hypermetrope</td>\n",
       "      <td>yes</td>\n",
       "      <td>normal</td>\n",
       "      <td>hard</td>\n",
       "    </tr>\n",
       "    <tr>\n",
       "      <th>8</th>\n",
       "      <td>pre-presbyopic</td>\n",
       "      <td>myope</td>\n",
       "      <td>no</td>\n",
       "      <td>reduced</td>\n",
       "      <td>none</td>\n",
       "    </tr>\n",
       "    <tr>\n",
       "      <th>9</th>\n",
       "      <td>pre-presbyopic</td>\n",
       "      <td>myope</td>\n",
       "      <td>no</td>\n",
       "      <td>normal</td>\n",
       "      <td>soft</td>\n",
       "    </tr>\n",
       "    <tr>\n",
       "      <th>10</th>\n",
       "      <td>pre-presbyopic</td>\n",
       "      <td>myope</td>\n",
       "      <td>yes</td>\n",
       "      <td>reduced</td>\n",
       "      <td>none</td>\n",
       "    </tr>\n",
       "    <tr>\n",
       "      <th>11</th>\n",
       "      <td>pre-presbyopic</td>\n",
       "      <td>myope</td>\n",
       "      <td>yes</td>\n",
       "      <td>normal</td>\n",
       "      <td>hard</td>\n",
       "    </tr>\n",
       "    <tr>\n",
       "      <th>12</th>\n",
       "      <td>pre-presbyopic</td>\n",
       "      <td>hypermetrope</td>\n",
       "      <td>no</td>\n",
       "      <td>reduced</td>\n",
       "      <td>none</td>\n",
       "    </tr>\n",
       "    <tr>\n",
       "      <th>13</th>\n",
       "      <td>pre-presbyopic</td>\n",
       "      <td>hypermetrope</td>\n",
       "      <td>no</td>\n",
       "      <td>normal</td>\n",
       "      <td>soft</td>\n",
       "    </tr>\n",
       "    <tr>\n",
       "      <th>14</th>\n",
       "      <td>pre-presbyopic</td>\n",
       "      <td>hypermetrope</td>\n",
       "      <td>yes</td>\n",
       "      <td>reduced</td>\n",
       "      <td>none</td>\n",
       "    </tr>\n",
       "    <tr>\n",
       "      <th>15</th>\n",
       "      <td>pre-presbyopic</td>\n",
       "      <td>hypermetrope</td>\n",
       "      <td>yes</td>\n",
       "      <td>normal</td>\n",
       "      <td>none</td>\n",
       "    </tr>\n",
       "    <tr>\n",
       "      <th>16</th>\n",
       "      <td>presbyopic</td>\n",
       "      <td>myope</td>\n",
       "      <td>no</td>\n",
       "      <td>reduced</td>\n",
       "      <td>none</td>\n",
       "    </tr>\n",
       "    <tr>\n",
       "      <th>17</th>\n",
       "      <td>presbyopic</td>\n",
       "      <td>myope</td>\n",
       "      <td>no</td>\n",
       "      <td>normal</td>\n",
       "      <td>none</td>\n",
       "    </tr>\n",
       "    <tr>\n",
       "      <th>18</th>\n",
       "      <td>presbyopic</td>\n",
       "      <td>myope</td>\n",
       "      <td>yes</td>\n",
       "      <td>reduced</td>\n",
       "      <td>none</td>\n",
       "    </tr>\n",
       "    <tr>\n",
       "      <th>19</th>\n",
       "      <td>presbyopic</td>\n",
       "      <td>myope</td>\n",
       "      <td>yes</td>\n",
       "      <td>normal</td>\n",
       "      <td>hard</td>\n",
       "    </tr>\n",
       "    <tr>\n",
       "      <th>20</th>\n",
       "      <td>presbyopic</td>\n",
       "      <td>hypermetrope</td>\n",
       "      <td>no</td>\n",
       "      <td>reduced</td>\n",
       "      <td>none</td>\n",
       "    </tr>\n",
       "    <tr>\n",
       "      <th>21</th>\n",
       "      <td>presbyopic</td>\n",
       "      <td>hypermetrope</td>\n",
       "      <td>no</td>\n",
       "      <td>normal</td>\n",
       "      <td>soft</td>\n",
       "    </tr>\n",
       "    <tr>\n",
       "      <th>22</th>\n",
       "      <td>presbyopic</td>\n",
       "      <td>hypermetrope</td>\n",
       "      <td>yes</td>\n",
       "      <td>reduced</td>\n",
       "      <td>none</td>\n",
       "    </tr>\n",
       "    <tr>\n",
       "      <th>23</th>\n",
       "      <td>presbyopic</td>\n",
       "      <td>hypermetrope</td>\n",
       "      <td>yes</td>\n",
       "      <td>normal</td>\n",
       "      <td>none</td>\n",
       "    </tr>\n",
       "  </tbody>\n",
       "</table>\n",
       "</div>"
      ],
      "text/plain": [
       "               age spectacle-prescrip astigmatism tear-prod-rate  \\\n",
       "0            young              myope          no        reduced   \n",
       "1            young              myope          no         normal   \n",
       "2            young              myope         yes        reduced   \n",
       "3            young              myope         yes         normal   \n",
       "4            young       hypermetrope          no        reduced   \n",
       "5            young       hypermetrope          no         normal   \n",
       "6            young       hypermetrope         yes        reduced   \n",
       "7            young       hypermetrope         yes         normal   \n",
       "8   pre-presbyopic              myope          no        reduced   \n",
       "9   pre-presbyopic              myope          no         normal   \n",
       "10  pre-presbyopic              myope         yes        reduced   \n",
       "11  pre-presbyopic              myope         yes         normal   \n",
       "12  pre-presbyopic       hypermetrope          no        reduced   \n",
       "13  pre-presbyopic       hypermetrope          no         normal   \n",
       "14  pre-presbyopic       hypermetrope         yes        reduced   \n",
       "15  pre-presbyopic       hypermetrope         yes         normal   \n",
       "16      presbyopic              myope          no        reduced   \n",
       "17      presbyopic              myope          no         normal   \n",
       "18      presbyopic              myope         yes        reduced   \n",
       "19      presbyopic              myope         yes         normal   \n",
       "20      presbyopic       hypermetrope          no        reduced   \n",
       "21      presbyopic       hypermetrope          no         normal   \n",
       "22      presbyopic       hypermetrope         yes        reduced   \n",
       "23      presbyopic       hypermetrope         yes         normal   \n",
       "\n",
       "   contact-lenses  \n",
       "0            none  \n",
       "1            soft  \n",
       "2            none  \n",
       "3            hard  \n",
       "4            none  \n",
       "5            soft  \n",
       "6            none  \n",
       "7            hard  \n",
       "8            none  \n",
       "9            soft  \n",
       "10           none  \n",
       "11           hard  \n",
       "12           none  \n",
       "13           soft  \n",
       "14           none  \n",
       "15           none  \n",
       "16           none  \n",
       "17           none  \n",
       "18           none  \n",
       "19           hard  \n",
       "20           none  \n",
       "21           soft  \n",
       "22           none  \n",
       "23           none  "
      ]
     },
     "execution_count": 5,
     "metadata": {},
     "output_type": "execute_result"
    }
   ],
   "source": [
    "# And if we're going for presentation or even easier\n",
    "# viewing, we can print our data as a dataframe in\n",
    "# iPython (Jupyter Notebook et al.)\n",
    "\n",
    "import pandas as pd\n",
    "\n",
    "pd.DataFrame(pd.read_csv('contact-lenses.csv'))"
   ]
  },
  {
   "cell_type": "markdown",
   "metadata": {},
   "source": [
    "## Problem 5\n",
    "\n",
    "Write a Python function to compute standard deviation.\n",
    "\n",
    "\n",
    "$$ \\sigma = \\sqrt{\\frac{1}{N}\\sum^{N}_{i=1}(x_i-\\mu)^2}$$\n",
    "\n",
    "Calculating the Standard Deviation is a simple process that goes like this:\n",
    "\n",
    "1. Calculate the __Mean__\n",
    "2. For each individual instance, subtract the mean and square the result. In other words, __find the square differences of the mean of the dataset and each number in the dataset__.\n",
    "3. Then __take the mean of *those* squared differences__.\n",
    "4. Take __the square root of that__ resulting number."
   ]
  },
  {
   "cell_type": "code",
   "execution_count": 20,
   "metadata": {},
   "outputs": [],
   "source": [
    "'''\n",
    "These are pretty open-ended instructions. \n",
    "I suppose I'll just write a little function that\n",
    "finds the standard deviation of a list of numbers.\n",
    "'''\n",
    "\n",
    "## Highly readable version:\n",
    "def std_easy(il):\n",
    "    mean = sum(il) / len(il)\n",
    "    squared_diffs = [(i - mean)**2 for i in il]\n",
    "    mean_ = sum(squared_diffs) / len(il)\n",
    "    return mean_**(1/2)\n",
    "        \n",
    "## Efficient version:\n",
    "def std_eff(il):\n",
    "    mean = lambda l: sum(l)/len(l)\n",
    "    return mean([(i - mean(il))**2 for i in il])**(1/2)\n",
    "\n",
    "## One-liner:\n",
    "std_ol = lambda l: (sum([(i - (sum(l)/len(l)))**2 for i in l])/len(l))**(1/2)"
   ]
  },
  {
   "cell_type": "code",
   "execution_count": 21,
   "metadata": {},
   "outputs": [],
   "source": [
    "l_ = [1,2,3,4,5]"
   ]
  },
  {
   "cell_type": "code",
   "execution_count": 22,
   "metadata": {},
   "outputs": [
    {
     "data": {
      "text/plain": [
       "1.4142135623730951"
      ]
     },
     "execution_count": 22,
     "metadata": {},
     "output_type": "execute_result"
    }
   ],
   "source": [
    "std_easy(l_)"
   ]
  },
  {
   "cell_type": "code",
   "execution_count": 23,
   "metadata": {},
   "outputs": [
    {
     "data": {
      "text/plain": [
       "1.4142135623730951"
      ]
     },
     "execution_count": 23,
     "metadata": {},
     "output_type": "execute_result"
    }
   ],
   "source": [
    "std_eff(l_)"
   ]
  },
  {
   "cell_type": "code",
   "execution_count": 24,
   "metadata": {},
   "outputs": [
    {
     "data": {
      "text/plain": [
       "1.4142135623730951"
      ]
     },
     "execution_count": 24,
     "metadata": {},
     "output_type": "execute_result"
    }
   ],
   "source": [
    "std_ol(l_)"
   ]
  },
  {
   "cell_type": "code",
   "execution_count": 25,
   "metadata": {},
   "outputs": [
    {
     "data": {
      "text/plain": [
       "1.4142135623730951"
      ]
     },
     "execution_count": 25,
     "metadata": {},
     "output_type": "execute_result"
    }
   ],
   "source": [
    "# Or we could import numpy, pandas, stats or any of\n",
    "# the other zillion libraries that do standard deviation!\n",
    "\n",
    "import numpy as np\n",
    "\n",
    "np.std(l_)"
   ]
  },
  {
   "cell_type": "markdown",
   "metadata": {},
   "source": [
    "## Problem 6\n",
    "\n",
    "Run multilayer perceptron on MNIST. Compute precision and recall.\n"
   ]
  },
  {
   "cell_type": "markdown",
   "metadata": {},
   "source": [
    "### Import our data\n",
    "\n",
    "We will compare TF's example dataset (MNIST) with the raw image dataset."
   ]
  },
  {
   "cell_type": "markdown",
   "metadata": {},
   "source": [
    "#### Import raw image data\n",
    "\n",
    "Importing the dataset this way will make it easy to inspect and visualize"
   ]
  },
  {
   "cell_type": "code",
   "execution_count": 5,
   "metadata": {
    "scrolled": true
   },
   "outputs": [
    {
     "name": "stdout",
     "output_type": "stream",
     "text": [
      "Extracting data/train-images-idx3-ubyte.gz\n",
      "Extracting data/train-labels-idx1-ubyte.gz\n",
      "Extracting data/t10k-images-idx3-ubyte.gz\n",
      "Extracting data/t10k-labels-idx1-ubyte.gz\n"
     ]
    }
   ],
   "source": [
    "from tensorflow.contrib.learn.python.learn.datasets.mnist import extract_images, extract_labels\n",
    "\n",
    "with open('data/train-images-idx3-ubyte.gz', 'rb') as f:\n",
    "  train_images = extract_images(f)\n",
    "with open('data/train-labels-idx1-ubyte.gz', 'rb') as f:\n",
    "  train_labels = extract_labels(f)\n",
    "\n",
    "with open('data/t10k-images-idx3-ubyte.gz', 'rb') as f:\n",
    "  test_images = extract_images(f)\n",
    "with open('data/t10k-labels-idx1-ubyte.gz', 'rb') as f:\n",
    "  test_labels = extract_labels(f)"
   ]
  },
  {
   "cell_type": "markdown",
   "metadata": {},
   "source": [
    "#### Import TF's example dataset"
   ]
  },
  {
   "cell_type": "code",
   "execution_count": 1,
   "metadata": {
    "scrolled": false
   },
   "outputs": [
    {
     "name": "stdout",
     "output_type": "stream",
     "text": [
      "WARNING:tensorflow:From <ipython-input-1-3ff8b16c8389>:2: read_data_sets (from tensorflow.contrib.learn.python.learn.datasets.mnist) is deprecated and will be removed in a future version.\n",
      "Instructions for updating:\n",
      "Please use alternatives such as official/mnist/dataset.py from tensorflow/models.\n",
      "WARNING:tensorflow:From /home/torchl/.local/lib/python3.6/site-packages/tensorflow/contrib/learn/python/learn/datasets/mnist.py:260: maybe_download (from tensorflow.contrib.learn.python.learn.datasets.base) is deprecated and will be removed in a future version.\n",
      "Instructions for updating:\n",
      "Please write your own downloading logic.\n",
      "WARNING:tensorflow:From /home/torchl/.local/lib/python3.6/site-packages/tensorflow/contrib/learn/python/learn/datasets/mnist.py:262: extract_images (from tensorflow.contrib.learn.python.learn.datasets.mnist) is deprecated and will be removed in a future version.\n",
      "Instructions for updating:\n",
      "Please use tf.data to implement this functionality.\n",
      "Extracting data/train-images-idx3-ubyte.gz\n",
      "WARNING:tensorflow:From /home/torchl/.local/lib/python3.6/site-packages/tensorflow/contrib/learn/python/learn/datasets/mnist.py:267: extract_labels (from tensorflow.contrib.learn.python.learn.datasets.mnist) is deprecated and will be removed in a future version.\n",
      "Instructions for updating:\n",
      "Please use tf.data to implement this functionality.\n",
      "Extracting data/train-labels-idx1-ubyte.gz\n",
      "WARNING:tensorflow:From /home/torchl/.local/lib/python3.6/site-packages/tensorflow/contrib/learn/python/learn/datasets/mnist.py:110: dense_to_one_hot (from tensorflow.contrib.learn.python.learn.datasets.mnist) is deprecated and will be removed in a future version.\n",
      "Instructions for updating:\n",
      "Please use tf.one_hot on tensors.\n",
      "Extracting data/t10k-images-idx3-ubyte.gz\n",
      "Extracting data/t10k-labels-idx1-ubyte.gz\n",
      "WARNING:tensorflow:From /home/torchl/.local/lib/python3.6/site-packages/tensorflow/contrib/learn/python/learn/datasets/mnist.py:290: DataSet.__init__ (from tensorflow.contrib.learn.python.learn.datasets.mnist) is deprecated and will be removed in a future version.\n",
      "Instructions for updating:\n",
      "Please use alternatives such as official/mnist/dataset.py from tensorflow/models.\n"
     ]
    }
   ],
   "source": [
    "from tensorflow.examples.tutorials.mnist import input_data\n",
    "mnist = input_data.read_data_sets(\"data/\", one_hot = True)"
   ]
  },
  {
   "cell_type": "markdown",
   "metadata": {},
   "source": [
    "##### Visualize some samples"
   ]
  },
  {
   "cell_type": "code",
   "execution_count": 3,
   "metadata": {
    "scrolled": true
   },
   "outputs": [
    {
     "data": {
      "image/png": "[encoded data removed]",
      "text/plain": [
       "<Figure size 72x72 with 1 Axes>"
      ]
     },
     "metadata": {
      "needs_background": "light"
     },
     "output_type": "display_data"
    },
    {
     "data": {
      "image/png": "[encoded data removed]",
      "text/plain": [
       "<Figure size 72x72 with 1 Axes>"
      ]
     },
     "metadata": {
      "needs_background": "light"
     },
     "output_type": "display_data"
    },
    {
     "data": {
      "image/png": "[encoded data removed]",
      "text/plain": [
       "<Figure size 72x72 with 1 Axes>"
      ]
     },
     "metadata": {
      "needs_background": "light"
     },
     "output_type": "display_data"
    },
    {
     "data": {
      "image/png": "[encoded data removed]",
      "text/plain": [
       "<Figure size 72x72 with 1 Axes>"
      ]
     },
     "metadata": {
      "needs_background": "light"
     },
     "output_type": "display_data"
    },
    {
     "data": {
      "image/png": "[encoded data removed]",
      "text/plain": [
       "<Figure size 72x72 with 1 Axes>"
      ]
     },
     "metadata": {
      "needs_background": "light"
     },
     "output_type": "display_data"
    },
    {
     "data": {
      "image/png": "[encoded data removed]",
      "text/plain": [
       "<Figure size 72x72 with 1 Axes>"
      ]
     },
     "metadata": {
      "needs_background": "light"
     },
     "output_type": "display_data"
    },
    {
     "data": {
      "image/png": "[encoded data removed]",
      "text/plain": [
       "<Figure size 72x72 with 1 Axes>"
      ]
     },
     "metadata": {
      "needs_background": "light"
     },
     "output_type": "display_data"
    },
    {
     "data": {
      "image/png": "[encoded data removed]",
      "text/plain": [
       "<Figure size 72x72 with 1 Axes>"
      ]
     },
     "metadata": {
      "needs_background": "light"
     },
     "output_type": "display_data"
    },
    {
     "data": {
      "image/png": "[encoded data removed]",
      "text/plain": [
       "<Figure size 72x72 with 1 Axes>"
      ]
     },
     "metadata": {
      "needs_background": "light"
     },
     "output_type": "display_data"
    },
    {
     "data": {
      "image/png": "[encoded data removed]",
      "text/plain": [
       "<Figure size 72x72 with 1 Axes>"
      ]
     },
     "metadata": {
      "needs_background": "light"
     },
     "output_type": "display_data"
    }
   ],
   "source": [
    "# raw data\n",
    "\n",
    "import matplotlib.pyplot as plt\n",
    "import numpy as np\n",
    "%matplotlib inline\n",
    "\n",
    "for i in range(10):\n",
    "    fig, ax = plt.subplots(figsize=(1,1))\n",
    "    image = np.asarray(train_images[i]).squeeze()\n",
    "    im = ax.imshow(image)"
   ]
  },
  {
   "cell_type": "code",
   "execution_count": 14,
   "metadata": {
    "scrolled": true
   },
   "outputs": [
    {
     "data": {
      "image/png": "[encoded data removed]",
      "text/plain": [
       "<Figure size 72x72 with 1 Axes>"
      ]
     },
     "metadata": {
      "needs_background": "light"
     },
     "output_type": "display_data"
    },
    {
     "data": {
      "image/png": "[encoded data removed]",
      "text/plain": [
       "<Figure size 72x72 with 1 Axes>"
      ]
     },
     "metadata": {
      "needs_background": "light"
     },
     "output_type": "display_data"
    },
    {
     "data": {
      "image/png": "[encoded data removed]",
      "text/plain": [
       "<Figure size 72x72 with 1 Axes>"
      ]
     },
     "metadata": {
      "needs_background": "light"
     },
     "output_type": "display_data"
    },
    {
     "data": {
      "image/png": "[encoded data removed]",
      "text/plain": [
       "<Figure size 72x72 with 1 Axes>"
      ]
     },
     "metadata": {
      "needs_background": "light"
     },
     "output_type": "display_data"
    },
    {
     "data": {
      "image/png": "[encoded data removed]",
      "text/plain": [
       "<Figure size 72x72 with 1 Axes>"
      ]
     },
     "metadata": {
      "needs_background": "light"
     },
     "output_type": "display_data"
    },
    {
     "data": {
      "image/png": "[encoded data removed]",
      "text/plain": [
       "<Figure size 72x72 with 1 Axes>"
      ]
     },
     "metadata": {
      "needs_background": "light"
     },
     "output_type": "display_data"
    },
    {
     "data": {
      "image/png": "[encoded data removed]",
      "text/plain": [
       "<Figure size 72x72 with 1 Axes>"
      ]
     },
     "metadata": {
      "needs_background": "light"
     },
     "output_type": "display_data"
    },
    {
     "data": {
      "image/png": "[encoded data removed]",
      "text/plain": [
       "<Figure size 72x72 with 1 Axes>"
      ]
     },
     "metadata": {
      "needs_background": "light"
     },
     "output_type": "display_data"
    },
    {
     "data": {
      "image/png": "[encoded data removed]",
      "text/plain": [
       "<Figure size 72x72 with 1 Axes>"
      ]
     },
     "metadata": {
      "needs_background": "light"
     },
     "output_type": "display_data"
    },
    {
     "data": {
      "image/png": "[encoded data removed]",
      "text/plain": [
       "<Figure size 72x72 with 1 Axes>"
      ]
     },
     "metadata": {
      "needs_background": "light"
     },
     "output_type": "display_data"
    }
   ],
   "source": [
    "# TF example data\n",
    "\n",
    "import matplotlib.pyplot as plt\n",
    "import numpy as np\n",
    "%matplotlib inline\n",
    "\n",
    "for i in range(10):\n",
    "    fig, ax = plt.subplots(figsize=(1,1))\n",
    "    image = np.asarray(mnist.train.images[i].reshape(28,28)).squeeze()\n",
    "    im = ax.imshow(image)"
   ]
  },
  {
   "cell_type": "markdown",
   "metadata": {},
   "source": [
    "#### Inspect shape of images (array dimensions)"
   ]
  },
  {
   "cell_type": "code",
   "execution_count": 6,
   "metadata": {},
   "outputs": [
    {
     "data": {
      "text/plain": [
       "(60000, 28, 28, 1)"
      ]
     },
     "execution_count": 6,
     "metadata": {},
     "output_type": "execute_result"
    }
   ],
   "source": [
    "# raw data\n",
    "\n",
    "# use the `shape` attribute of the numpy array to see\n",
    "# the dimensions of each images and check how many images\n",
    "# are in the dataset\n",
    "\n",
    "# 60,000 images at (28x28) pixels each with a color depth of 1\n",
    "\n",
    "# conveniently these images already have a 4th dimension which\n",
    "# is necessary for TensorFlow\n",
    "\n",
    "train_images.shape"
   ]
  },
  {
   "cell_type": "code",
   "execution_count": 7,
   "metadata": {},
   "outputs": [
    {
     "data": {
      "text/plain": [
       "tensorflow.contrib.learn.python.learn.datasets.base.Datasets"
      ]
     },
     "execution_count": 7,
     "metadata": {},
     "output_type": "execute_result"
    }
   ],
   "source": [
    "# TF example data\n",
    "\n",
    "type(mnist)"
   ]
  },
  {
   "cell_type": "code",
   "execution_count": 15,
   "metadata": {},
   "outputs": [
    {
     "data": {
      "text/plain": [
       "(55000, 784)"
      ]
     },
     "execution_count": 15,
     "metadata": {},
     "output_type": "execute_result"
    }
   ],
   "source": [
    "mnist.train.images.shape"
   ]
  },
  {
   "cell_type": "markdown",
   "metadata": {},
   "source": [
    "### Parameters"
   ]
  },
  {
   "cell_type": "markdown",
   "metadata": {},
   "source": [
    "Now, let's get down to business. Rather than our book we'll be using an ubiquitous learning source out on the web: Towards Data Science, via <a href=\"https://towardsdatascience.com/multi-layer-perceptron-using-tensorflow-9f3e218a4809\"> this article.</a>\n",
    "\n",
    "I've modified some of the steps since I've grabbed the raw data from MNIST. The tutorial above loads the data from another library, which ultimately adds some unecessary steps and leaves out some other more important real-world parts of the data processing."
   ]
  },
  {
   "cell_type": "markdown",
   "metadata": {},
   "source": [
    "We will be building the following Neural Network model:\n",
    "\n",
    "    784(Input) - 512(Hidden Layer 1) - 256(Hidden Layer 2) - 10 (Output)\n",
    "\n",
    "or as we'd commonly see it:\n",
    "\n",
    "    784-512-256-10"
   ]
  },
  {
   "cell_type": "code",
   "execution_count": 51,
   "metadata": {},
   "outputs": [],
   "source": [
    "# Import our tools\n",
    "import numpy as np\n",
    "import tensorflow as tf\n",
    "from sklearn.metrics import roc_auc_score, accuracy_score\n",
    "\n",
    "# Working in IPython, this saves us from having to initiate any\n",
    "# graphs when we run our models\n",
    "\n",
    "s = tf.InteractiveSession()"
   ]
  },
  {
   "cell_type": "markdown",
   "metadata": {},
   "source": [
    "#### Learning parameters\n",
    "\n",
    "Apparently it is difficult to discern good parameters for a dataset you aren't familiar with, but MNIST is a popular dataset and these are considered to be decent."
   ]
  },
  {
   "cell_type": "code",
   "execution_count": 72,
   "metadata": {},
   "outputs": [],
   "source": [
    "learning_rate = 0.001 # how quickly to adjust the error cost function\n",
    "regularizer_rate = 0.1\n",
    "training_epochs = 15 # number of training cycles\n",
    "batch_size = 100 # size of the batches/chunks of training data"
   ]
  },
  {
   "cell_type": "markdown",
   "metadata": {},
   "source": [
    "#### Network parameters"
   ]
  },
  {
   "cell_type": "code",
   "execution_count": 53,
   "metadata": {},
   "outputs": [],
   "source": [
    "# define our initialization variables for 784-512-256-10 MLP model\n",
    "\n",
    "n_classes = len(np.unique(train_labels)) # we know there are 10: (0 - 9 digits)\n",
    "n_output = n_classes # the same in this case\n",
    "n_samples = mnist.train.images.shape[0] # how many images in set... 55000\n",
    "n_features = mnist.train.images.shape[1] # flattened dimension of images: 28x28\n",
    "\n",
    "n_hidden1 = 512 # layer 1 number of features\n",
    "n_hidden2 = 256 # layer 2 number of features"
   ]
  },
  {
   "cell_type": "markdown",
   "metadata": {},
   "source": [
    "#### Graph Inputs\n",
    "\n",
    "We define these placeholders for keeping track of variables including input and output variables and any others we are interested in.\n",
    "\n",
    "\n",
    "*Note: `dense layers` and `dropout layers` and beautifully described in <a href=\"https://www.quora.com/In-TensorFlow-what-is-a-dense-and-a-dropout-layer\">this Quora thread</a>.*\n",
    "\n",
    "*In a nutshell, `dropout layers` are a technique used to help prevent overfitting of data. Neurons are randomly selected at each pass to be \"dropped out\", meaning that their weights aren't updated. In turn, this results in the model being less sensitive to their particular weights. This helps the model generalize better.*"
   ]
  },
  {
   "cell_type": "code",
   "execution_count": 62,
   "metadata": {},
   "outputs": [],
   "source": [
    "X = tf.placeholder('float32', shape= (None, n_features), name = \"featuresx\")\n",
    "Y = tf.placeholder('float32', shape= (None, n_features), name = \"classesy\")\n",
    "\n",
    "keep_prob = tf.placeholder(tf.float32)"
   ]
  },
  {
   "cell_type": "markdown",
   "metadata": {},
   "source": [
    "    \"As dense layers require weights and biases and they need to be initialized with a random normal distribution with zero mean and small variance (1/square root of the number of features).\"\n",
    "                             - Towards Data Science article"
   ]
  },
  {
   "cell_type": "markdown",
   "metadata": {},
   "source": [
    "        ## Weights initialized by random normal function with \n",
    "        ##  std_dev = 1/sqrt(number of input features)"
   ]
  },
  {
   "cell_type": "code",
   "execution_count": 66,
   "metadata": {},
   "outputs": [],
   "source": [
    "# Initialize the weights and biases\n",
    "\n",
    "weights_0 = tf.Variable(tf.random_normal([n_features,n_hidden1], \n",
    "                                    stddev=(1/tf.sqrt(float(n_features))))\n",
    "                                )\n",
    "bias_0 = tf.Variable(tf.random_normal([n_hidden1]))\n",
    "\n",
    "\n",
    "weights_1 = tf.Variable(tf.random_normal([n_hidden1,n_hidden2], \n",
    "                                    stddev=(1/tf.sqrt(float(n_features))))\n",
    "                                )\n",
    "bias_1 = tf.Variable(tf.random_normal([n_hidden2]))\n",
    "\n",
    "\n",
    "weights_2 = tf.Variable(tf.random_normal([n_hidden2,n_output], \n",
    "                                    stddev=(1/tf.sqrt(float(n_hidden2))))\n",
    "                                )\n",
    "bias_2 = tf.Variable(tf.random_normal([n_output]))"
   ]
  },
  {
   "cell_type": "code",
   "execution_count": 69,
   "metadata": {},
   "outputs": [],
   "source": [
    "# Create the MLP model function\n",
    "def multilayer_perceptron(x):\n",
    "    hidden_output_0 = tf.nn.relu(tf.matmul(x, weights_0) + bias_0)\n",
    "    hidden_output_0_0 = tf.nn.dropout(hidden_output_0, keep_prob)\n",
    "        \n",
    "    hidden_output_1 = tf.nn.relu(tf.matmul(hidden_output_0_0, weights_1) + bias_1)\n",
    "    hidden_output_1_1 = tf.nn.dropout(hidden_output_1, keep_prob)\n",
    "    \n",
    "    predicted_y = tf.sigmoid(tf.matmul(hidden_output_1_1, weights_2) + bias_2)\n",
    "    \n",
    "    return predicted_y"
   ]
  },
  {
   "cell_type": "code",
   "execution_count": 70,
   "metadata": {},
   "outputs": [],
   "source": [
    "# Construct the model\n",
    "logits = multilayer_perceptron(X)"
   ]
  },
  {
   "cell_type": "code",
   "execution_count": 74,
   "metadata": {},
   "outputs": [],
   "source": [
    "# Define the loss function\n",
    "\n",
    "loss = tf.reduce_mean(tf.nn.softmax_cross_entropy_with_logits_v2(\n",
    "                          logits=logits, labels= Y     )\n",
    "                     )# \\\n",
    "        #+ regularizer_rate*(\n",
    "         #                   tf.reduce_sum(tf.square(bias_0)) + \n",
    "          #                  tf.reduce_sum(tf.square(bias_1))\n",
    "           #                 )"
   ]
  },
  {
   "cell_type": "code",
   "execution_count": 75,
   "metadata": {},
   "outputs": [],
   "source": [
    "# Define optimizer\n",
    "\n",
    "optimizer = tf.train.AdamOptimizer(learning_rate = learning_rate)\n",
    "train_op = optimizer.minimize(loss)\n",
    "\n",
    "# initialize variables\n",
    "\n",
    "init = tf.global_variables_initializer()"
   ]
  },
  {
   "cell_type": "code",
   "execution_count": 81,
   "metadata": {},
   "outputs": [],
   "source": [
    " # Test model\n",
    "pred = tf.nn.softmax(logits)  # Apply softmax to logits\n",
    "correct_prediction = tf.equal(tf.argmax(pred, 1), tf.argmax(Y, 1))"
   ]
  },
  {
   "cell_type": "code",
   "execution_count": 82,
   "metadata": {},
   "outputs": [],
   "source": [
    "## Metrics definition\n",
    "accuracy = tf.reduce_mean(tf.cast(correct_prediction, tf.float32))"
   ]
  },
  {
   "cell_type": "code",
   "execution_count": 83,
   "metadata": {},
   "outputs": [
    {
     "ename": "NameError",
     "evalue": "name 'X_train' is not defined",
     "output_type": "error",
     "traceback": [
      "\u001b[0;31m---------------------------------------------------------------------------\u001b[0m",
      "\u001b[0;31mNameError\u001b[0m                                 Traceback (most recent call last)",
      "\u001b[0;32m<ipython-input-83-71c58b5de706>\u001b[0m in \u001b[0;36m<module>\u001b[0;34m\u001b[0m\n\u001b[1;32m      8\u001b[0m \u001b[0ms\u001b[0m\u001b[0;34m.\u001b[0m\u001b[0mrun\u001b[0m\u001b[0;34m(\u001b[0m\u001b[0mtf\u001b[0m\u001b[0;34m.\u001b[0m\u001b[0mglobal_variables_initializer\u001b[0m\u001b[0;34m(\u001b[0m\u001b[0;34m)\u001b[0m\u001b[0;34m)\u001b[0m\u001b[0;34m\u001b[0m\u001b[0;34m\u001b[0m\u001b[0m\n\u001b[1;32m      9\u001b[0m \u001b[0;32mfor\u001b[0m \u001b[0mepoch\u001b[0m \u001b[0;32min\u001b[0m \u001b[0mrange\u001b[0m\u001b[0;34m(\u001b[0m\u001b[0mepochs\u001b[0m\u001b[0;34m)\u001b[0m\u001b[0;34m:\u001b[0m\u001b[0;34m\u001b[0m\u001b[0;34m\u001b[0m\u001b[0m\n\u001b[0;32m---> 10\u001b[0;31m     \u001b[0marr\u001b[0m \u001b[0;34m=\u001b[0m \u001b[0mnp\u001b[0m\u001b[0;34m.\u001b[0m\u001b[0marange\u001b[0m\u001b[0;34m(\u001b[0m\u001b[0mX_train\u001b[0m\u001b[0;34m.\u001b[0m\u001b[0mshape\u001b[0m\u001b[0;34m[\u001b[0m\u001b[0;36m0\u001b[0m\u001b[0;34m]\u001b[0m\u001b[0;34m)\u001b[0m\u001b[0;34m\u001b[0m\u001b[0;34m\u001b[0m\u001b[0m\n\u001b[0m\u001b[1;32m     11\u001b[0m     \u001b[0mnp\u001b[0m\u001b[0;34m.\u001b[0m\u001b[0mrandom\u001b[0m\u001b[0;34m.\u001b[0m\u001b[0mshuffle\u001b[0m\u001b[0;34m(\u001b[0m\u001b[0marr\u001b[0m\u001b[0;34m)\u001b[0m\u001b[0;34m\u001b[0m\u001b[0;34m\u001b[0m\u001b[0m\n\u001b[1;32m     12\u001b[0m     \u001b[0;32mfor\u001b[0m \u001b[0mindex\u001b[0m \u001b[0;32min\u001b[0m \u001b[0mrange\u001b[0m\u001b[0;34m(\u001b[0m\u001b[0;36m0\u001b[0m\u001b[0;34m,\u001b[0m\u001b[0mX_train\u001b[0m\u001b[0;34m.\u001b[0m\u001b[0mshape\u001b[0m\u001b[0;34m[\u001b[0m\u001b[0;36m0\u001b[0m\u001b[0;34m]\u001b[0m\u001b[0;34m,\u001b[0m\u001b[0mbatch_size\u001b[0m\u001b[0;34m)\u001b[0m\u001b[0;34m:\u001b[0m\u001b[0;34m\u001b[0m\u001b[0;34m\u001b[0m\u001b[0m\n",
      "\u001b[0;31mNameError\u001b[0m: name 'X_train' is not defined"
     ]
    }
   ],
   "source": [
    "## Training parameters\n",
    "batch_size = 128\n",
    "epochs=14\n",
    "dropout_prob = 0.6\n",
    "training_accuracy = []\n",
    "training_loss = []\n",
    "testing_accuracy = []\n",
    "s.run(tf.global_variables_initializer())\n",
    "for epoch in range(epochs):    \n",
    "    arr = np.arange(X_train.shape[0])\n",
    "    np.random.shuffle(arr)\n",
    "    for index in range(0,X_train.shape[0],batch_size):\n",
    "        s.run(optimizer, {input_X: X_train[arr[index:index+batch_size]],\n",
    "                          input_y: y_train[arr[index:index+batch_size]],\n",
    "                        keep_prob:dropout_prob})\n",
    "    training_accuracy.append(s.run(accuracy, feed_dict= {input_X:X_train, \n",
    "                                                         input_y: y_train,keep_prob:1}))\n",
    "    training_loss.append(s.run(loss, {input_X: X_train, \n",
    "                                      input_y: y_train,keep_prob:1}))\n",
    "    \n",
    "    ## Evaluation of model\n",
    "    testing_accuracy.append(accuracy_score(y_test.argmax(1), \n",
    "                            s.run(predicted_y, {input_X: X_test,keep_prob:1}).argmax(1)))\n",
    "    print(\"Epoch:{0}, Train loss: {1:.2f} Train acc: {2:.3f}, Test acc:{3:.3f}\".format(epoch,\n",
    "                                                                    training_loss[epoch],\n",
    "                                                                    training_accuracy[epoch],\n",
    "                                                                   testing_accuracy[epoch]))"
   ]
  },
  {
   "cell_type": "code",
   "execution_count": 85,
   "metadata": {},
   "outputs": [
    {
     "ename": "ValueError",
     "evalue": "Cannot feed value of shape (128, 10) for Tensor 'classesy_1:0', which has shape '(?, 784)'",
     "output_type": "error",
     "traceback": [
      "\u001b[0;31m---------------------------------------------------------------------------\u001b[0m",
      "\u001b[0;31mValueError\u001b[0m                                Traceback (most recent call last)",
      "\u001b[0;32m<ipython-input-85-e20aa494d327>\u001b[0m in \u001b[0;36m<module>\u001b[0;34m\u001b[0m\n\u001b[1;32m     12\u001b[0m \u001b[0;34m\u001b[0m\u001b[0m\n\u001b[1;32m     13\u001b[0m             \u001b[0;31m# Run optimizater (back-propagation) and get the loss value\u001b[0m\u001b[0;34m\u001b[0m\u001b[0;34m\u001b[0m\u001b[0;34m\u001b[0m\u001b[0m\n\u001b[0;32m---> 14\u001b[0;31m             \u001b[0m_\u001b[0m\u001b[0;34m,\u001b[0m \u001b[0mc\u001b[0m \u001b[0;34m=\u001b[0m \u001b[0msess\u001b[0m\u001b[0;34m.\u001b[0m\u001b[0mrun\u001b[0m\u001b[0;34m(\u001b[0m\u001b[0;34m[\u001b[0m\u001b[0mtrain_op\u001b[0m\u001b[0;34m,\u001b[0m \u001b[0mloss\u001b[0m\u001b[0;34m]\u001b[0m\u001b[0;34m,\u001b[0m \u001b[0mfeed_dict\u001b[0m \u001b[0;34m=\u001b[0m \u001b[0;34m{\u001b[0m\u001b[0mX\u001b[0m\u001b[0;34m:\u001b[0m \u001b[0mbatch_x\u001b[0m\u001b[0;34m,\u001b[0m \u001b[0mY\u001b[0m\u001b[0;34m:\u001b[0m \u001b[0mbatch_y\u001b[0m\u001b[0;34m}\u001b[0m\u001b[0;34m)\u001b[0m\u001b[0;34m\u001b[0m\u001b[0;34m\u001b[0m\u001b[0m\n\u001b[0m\u001b[1;32m     15\u001b[0m \u001b[0;34m\u001b[0m\u001b[0m\n\u001b[1;32m     16\u001b[0m             \u001b[0;31m# Compute average loss\u001b[0m\u001b[0;34m\u001b[0m\u001b[0;34m\u001b[0m\u001b[0;34m\u001b[0m\u001b[0m\n",
      "\u001b[0;32m~/.local/lib/python3.6/site-packages/tensorflow/python/client/session.py\u001b[0m in \u001b[0;36mrun\u001b[0;34m(self, fetches, feed_dict, options, run_metadata)\u001b[0m\n\u001b[1;32m    927\u001b[0m     \u001b[0;32mtry\u001b[0m\u001b[0;34m:\u001b[0m\u001b[0;34m\u001b[0m\u001b[0;34m\u001b[0m\u001b[0m\n\u001b[1;32m    928\u001b[0m       result = self._run(None, fetches, feed_dict, options_ptr,\n\u001b[0;32m--> 929\u001b[0;31m                          run_metadata_ptr)\n\u001b[0m\u001b[1;32m    930\u001b[0m       \u001b[0;32mif\u001b[0m \u001b[0mrun_metadata\u001b[0m\u001b[0;34m:\u001b[0m\u001b[0;34m\u001b[0m\u001b[0;34m\u001b[0m\u001b[0m\n\u001b[1;32m    931\u001b[0m         \u001b[0mproto_data\u001b[0m \u001b[0;34m=\u001b[0m \u001b[0mtf_session\u001b[0m\u001b[0;34m.\u001b[0m\u001b[0mTF_GetBuffer\u001b[0m\u001b[0;34m(\u001b[0m\u001b[0mrun_metadata_ptr\u001b[0m\u001b[0;34m)\u001b[0m\u001b[0;34m\u001b[0m\u001b[0;34m\u001b[0m\u001b[0m\n",
      "\u001b[0;32m~/.local/lib/python3.6/site-packages/tensorflow/python/client/session.py\u001b[0m in \u001b[0;36m_run\u001b[0;34m(self, handle, fetches, feed_dict, options, run_metadata)\u001b[0m\n\u001b[1;32m   1126\u001b[0m                              \u001b[0;34m'which has shape %r'\u001b[0m \u001b[0;34m%\u001b[0m\u001b[0;34m\u001b[0m\u001b[0;34m\u001b[0m\u001b[0m\n\u001b[1;32m   1127\u001b[0m                              (np_val.shape, subfeed_t.name,\n\u001b[0;32m-> 1128\u001b[0;31m                               str(subfeed_t.get_shape())))\n\u001b[0m\u001b[1;32m   1129\u001b[0m           \u001b[0;32mif\u001b[0m \u001b[0;32mnot\u001b[0m \u001b[0mself\u001b[0m\u001b[0;34m.\u001b[0m\u001b[0mgraph\u001b[0m\u001b[0;34m.\u001b[0m\u001b[0mis_feedable\u001b[0m\u001b[0;34m(\u001b[0m\u001b[0msubfeed_t\u001b[0m\u001b[0;34m)\u001b[0m\u001b[0;34m:\u001b[0m\u001b[0;34m\u001b[0m\u001b[0;34m\u001b[0m\u001b[0m\n\u001b[1;32m   1130\u001b[0m             \u001b[0;32mraise\u001b[0m \u001b[0mValueError\u001b[0m\u001b[0;34m(\u001b[0m\u001b[0;34m'Tensor %s may not be fed.'\u001b[0m \u001b[0;34m%\u001b[0m \u001b[0msubfeed_t\u001b[0m\u001b[0;34m)\u001b[0m\u001b[0;34m\u001b[0m\u001b[0;34m\u001b[0m\u001b[0m\n",
      "\u001b[0;31mValueError\u001b[0m: Cannot feed value of shape (128, 10) for Tensor 'classesy_1:0', which has shape '(?, 784)'"
     ]
    }
   ],
   "source": [
    "with tf.Session() as sess:\n",
    "    sess.run(init)\n",
    "    \n",
    "    # Training cycle\n",
    "    for epoch in range(training_epochs):\n",
    "        avg_cost = 0.\n",
    "        total_batch = int(n_samples/batch_size)\n",
    "        \n",
    "        # Loop through all of the batches\n",
    "        for i in range(total_batch):\n",
    "            batch_x, batch_y = mnist.train.next_batch(batch_size)\n",
    "            \n",
    "            # Run optimizater (back-propagation) and get the loss value\n",
    "            _, c = sess.run([train_op, loss], feed_dict = {X: batch_x, Y: batch_y})\n",
    "            \n",
    "            # Compute average loss\n",
    "            avg_cost +- c / total_batch\n",
    "            \n",
    "        # Display logs for each epoch step\n",
    "        if epoch % display_step == 0:\n",
    "            print(\"Epoch:\", '%04d' % (epoch+1), \"cost={:.9f}\".format(avg_cost))\n",
    "    print(\"Optimization Finished!\")\n",
    "    \n",
    "     # Test model\n",
    "    pred = tf.nn.softmax(logits)  # Apply softmax to logits\n",
    "    correct_prediction = tf.equal(tf.argmax(pred, 1), tf.argmax(Y, 1))\n",
    "    \n",
    "    # Calculate accuracy\n",
    "    accuracy = tf.reduce_mean(tf.cast(correct_prediction, \"float\"))\n",
    "    print(\"Accuracy:\", accuracy.eval({X: mnist.test.images, Y: mnist.test.labels}))\n"
   ]
  },
  {
   "cell_type": "code",
   "execution_count": null,
   "metadata": {},
   "outputs": [],
   "source": []
  },
  {
   "cell_type": "code",
   "execution_count": 2,
   "metadata": {},
   "outputs": [
    {
     "name": "stdout",
     "output_type": "stream",
     "text": [
      "Extracting /tmp/data/train-images-idx3-ubyte.gz\n",
      "Extracting /tmp/data/train-labels-idx1-ubyte.gz\n",
      "Extracting /tmp/data/t10k-images-idx3-ubyte.gz\n",
      "Extracting /tmp/data/t10k-labels-idx1-ubyte.gz\n"
     ]
    },
    {
     "name": "stderr",
     "output_type": "stream",
     "text": [
      "/home/torchl/.local/lib/python3.6/site-packages/tensorflow/python/client/session.py:1702: UserWarning: An interactive session is already active. This can cause out-of-memory errors in some cases. You must explicitly call `InteractiveSession.close()` to release resources held by the other session(s).\n",
      "  warnings.warn('An interactive session is already active. This can '\n"
     ]
    },
    {
     "name": "stdout",
     "output_type": "stream",
     "text": [
      "Epoch: 1 cost188.3108\n",
      "Epoch: 2 cost47.0324\n",
      "Epoch: 3 cost28.3221\n",
      "Epoch: 4 cost18.9097\n",
      "Epoch: 5 cost12.7971\n",
      "Epoch: 6 cost9.1451\n",
      "Epoch: 7 cost6.3738\n",
      "Epoch: 8 cost4.2763\n",
      "Epoch: 9 cost3.1098\n",
      "Epoch: 10 cost2.2220\n",
      "Epoch: 11 cost1.7671\n",
      "Epoch: 12 cost1.3688\n",
      "Epoch: 13 cost1.1266\n",
      "Epoch: 14 cost1.0332\n",
      "Epoch: 15 cost1.0484\n",
      "Model has completed 15 Epochs of training\n"
     ]
    },
    {
     "data": {
      "text/plain": [
       "0.9527"
      ]
     },
     "execution_count": 2,
     "metadata": {},
     "output_type": "execute_result"
    }
   ],
   "source": [
    "import tensorflow as tf\n",
    "from tensorflow.examples.tutorials.mnist import input_data\n",
    "\n",
    "mnist = input_data.read_data_sets(\"/tmp/data\", one_hot=True)\n",
    "\n",
    "learning_rate = 0.001 #how quickly to learn\n",
    "training_epochs = 15\n",
    "batch_size = 100\n",
    "\n",
    "n_classes = 10 #MNIST total classes (0 - 9 digits)\n",
    "n_samples = mnist.train.num_examples #(how many images)\n",
    "\n",
    "n_input = 784 #MNIST data input (img shape is 28x28)\n",
    "\n",
    "n_hidden_1 = 512 # 1st layer number of neurons\n",
    "n_hidden_2 = 256 # 2nd layer number of neurons\n",
    "\n",
    "def multilayer_perceptron(x, weights, biases):\n",
    "    '''\n",
    "    x: Placeholder for data input\n",
    "    weights: Dictionary of weights\n",
    "    biases: Dictionary of bias values\n",
    "    '''\n",
    "    # First hidden layer with RELU activation\n",
    "    # X * W + B\n",
    "    layer_1 = tf.add(tf.matmul(x,weights['h1']),biases['b1'])\n",
    "\n",
    "    # RELU(X * W + B) = RELU -> f(x) = max(0,x)\n",
    "    layer_1 = tf.nn.relu(layer_1)\n",
    "\n",
    "    # Second hidden layer\n",
    "    layer_2 = tf.add(tf.matmul(layer_1,weights['h2']),biases['b2'])\n",
    "    layer_2 = tf.nn.relu(layer_2)\n",
    "\n",
    "    # Output layer\n",
    "    out_layer = tf.matmul(layer_2,weights['out']) + biases['out']\n",
    "    return out_layer\n",
    "\n",
    "weights = {\n",
    "'h1':tf.Variable(tf.random_normal([n_input,n_hidden_1])),\n",
    "'h2':tf.Variable(tf.random_normal([n_hidden_1,n_hidden_2])),\n",
    "'out':tf.Variable(tf.random_normal([n_hidden_2,n_classes]))\n",
    "}\n",
    "\n",
    "biases = {\n",
    "'b1':tf.Variable(tf.random_normal([n_hidden_1])),\n",
    "'b2':tf.Variable(tf.random_normal([n_hidden_2])),\n",
    "'out':tf.Variable(tf.random_normal([n_classes]))\n",
    "}\n",
    "\n",
    "x = tf.placeholder('float',[None,n_input])\n",
    "y = tf.placeholder('float',[None,n_classes])\n",
    "\n",
    "pred = multilayer_perceptron(x, weights,biases)\n",
    "\n",
    "cost = tf.reduce_mean(tf.nn.softmax_cross_entropy_with_logits(logits=pred, labels= y))\n",
    "optimiser = tf.train.AdamOptimizer(learning_rate=learning_rate).minimize(cost)\n",
    "\n",
    "sess = tf.InteractiveSession()\n",
    "\n",
    "init = tf.global_variables_initializer()\n",
    "\n",
    "sess.run(init)\n",
    "\n",
    "# 15 loops as we set training_epochs = 15\n",
    "for epoch in range (training_epochs):\n",
    "    # Cost\n",
    "    avg_cost = 0.0\n",
    "    total_batch = int(n_samples/batch_size)\n",
    "    for i in range(total_batch):\n",
    "        # Grab the next batch of training data and labels\n",
    "        batch_x, batch_y = mnist.train.next_batch(batch_size)\n",
    "        # Feed dictionary for optimization and loss value\n",
    "        # Returns a tuple, but we only need 'c' the cost\n",
    "        # So we set an underscore as a \"throwaway\"\n",
    "        _,c = sess.run([optimiser,cost],feed_dict={x:batch_x,y:batch_y})\n",
    "        avg_cost += c/total_batch\n",
    "    print(\"Epoch: {} cost{:.4f}\".format(epoch+1,avg_cost))\n",
    "print(\"Model has completed {} Epochs of training\".format(training_epochs))\n",
    "\n",
    "\n",
    "correct_pred = tf.equal(tf.argmax(pred,1),tf.argmax(y,1)) # checks if x==y?\n",
    "correct_pred = tf.cast(correct_pred,'float')\n",
    "accuracy = tf.reduce_mean(correct_pred)\n",
    "accuracy.eval({x:mnist.test.images,y:mnist.test.labels})"
   ]
  },
  {
   "cell_type": "code",
   "execution_count": 26,
   "metadata": {},
   "outputs": [
    {
     "name": "stdout",
     "output_type": "stream",
     "text": [
      "validation accuracy: 0.9527\n",
      "Precision 0.9527\n",
      "Recall 0.9527\n",
      "f1_score 0.9526999999999999\n",
      "confusion_matrix\n",
      "[[ 963    2    2    0    1    5    3    3    0    1]\n",
      " [   1 1121    4    0    0    2    3    0    3    1]\n",
      " [   9    5  984    6    6    2    1   10    9    0]\n",
      " [   0    4   10  949    1   23    1    9    5    8]\n",
      " [   4    2   10    0  918    4    7    9    7   21]\n",
      " [   1    1    0   14    2  861    4    3    5    1]\n",
      " [   9    4    1    1    7   14  916    3    3    0]\n",
      " [   0    9    6    4    7    1    0  991    3    7]\n",
      " [  13    3    4   20    5   23    2    6  889    9]\n",
      " [   6    6    1   10   10   12    2   25    2  935]]\n"
     ]
    }
   ],
   "source": [
    "import numpy as np\n",
    "import sklearn as sk\n",
    "\n",
    "#metrics\n",
    "y_p = tf.argmax(pred, 1)\n",
    "val_accuracy, y_pred = sess.run([accuracy, y_p], feed_dict={x:mnist.test.images,y:mnist.test.labels})\n",
    "\n",
    "print(\"validation accuracy:\", val_accuracy)\n",
    "y_true = np.argmax(mnist.test.labels,1)\n",
    "print(\"Precision\", sk.metrics.precision_score(y_true, y_pred, average='micro'))\n",
    "print(\"Recall\", sk.metrics.recall_score(y_true, y_pred, average='micro'))\n",
    "print(\"f1_score\", sk.metrics.f1_score(y_true, y_pred, average='micro'))\n",
    "print(\"confusion_matrix\")\n",
    "print(sk.metrics.confusion_matrix(y_true, y_pred))"
   ]
  },
  {
   "cell_type": "code",
   "execution_count": null,
   "metadata": {},
   "outputs": [],
   "source": []
  },
  {
   "cell_type": "code",
   "execution_count": 23,
   "metadata": {},
   "outputs": [
    {
     "name": "stdout",
     "output_type": "stream",
     "text": [
      "Help on function roc_curve in module sklearn.metrics.ranking:\n",
      "\n",
      "roc_curve(y_true, y_score, pos_label=None, sample_weight=None, drop_intermediate=True)\n",
      "    Compute Receiver operating characteristic (ROC)\n",
      "    \n",
      "    Note: this implementation is restricted to the binary classification task.\n",
      "    \n",
      "    Read more in the :ref:`User Guide <roc_metrics>`.\n",
      "    \n",
      "    Parameters\n",
      "    ----------\n",
      "    \n",
      "    y_true : array, shape = [n_samples]\n",
      "        True binary labels. If labels are not either {-1, 1} or {0, 1}, then\n",
      "        pos_label should be explicitly given.\n",
      "    \n",
      "    y_score : array, shape = [n_samples]\n",
      "        Target scores, can either be probability estimates of the positive\n",
      "        class, confidence values, or non-thresholded measure of decisions\n",
      "        (as returned by \"decision_function\" on some classifiers).\n",
      "    \n",
      "    pos_label : int or str, default=None\n",
      "        Label considered as positive and others are considered negative.\n",
      "    \n",
      "    sample_weight : array-like of shape = [n_samples], optional\n",
      "        Sample weights.\n",
      "    \n",
      "    drop_intermediate : boolean, optional (default=True)\n",
      "        Whether to drop some suboptimal thresholds which would not appear\n",
      "        on a plotted ROC curve. This is useful in order to create lighter\n",
      "        ROC curves.\n",
      "    \n",
      "        .. versionadded:: 0.17\n",
      "           parameter *drop_intermediate*.\n",
      "    \n",
      "    Returns\n",
      "    -------\n",
      "    fpr : array, shape = [>2]\n",
      "        Increasing false positive rates such that element i is the false\n",
      "        positive rate of predictions with score >= thresholds[i].\n",
      "    \n",
      "    tpr : array, shape = [>2]\n",
      "        Increasing true positive rates such that element i is the true\n",
      "        positive rate of predictions with score >= thresholds[i].\n",
      "    \n",
      "    thresholds : array, shape = [n_thresholds]\n",
      "        Decreasing thresholds on the decision function used to compute\n",
      "        fpr and tpr. `thresholds[0]` represents no instances being predicted\n",
      "        and is arbitrarily set to `max(y_score) + 1`.\n",
      "    \n",
      "    See also\n",
      "    --------\n",
      "    roc_auc_score : Compute the area under the ROC curve\n",
      "    \n",
      "    Notes\n",
      "    -----\n",
      "    Since the thresholds are sorted from low to high values, they\n",
      "    are reversed upon returning them to ensure they correspond to both ``fpr``\n",
      "    and ``tpr``, which are sorted in reversed order during their calculation.\n",
      "    \n",
      "    References\n",
      "    ----------\n",
      "    .. [1] `Wikipedia entry for the Receiver operating characteristic\n",
      "            <https://en.wikipedia.org/wiki/Receiver_operating_characteristic>`_\n",
      "    \n",
      "    .. [2] Fawcett T. An introduction to ROC analysis[J]. Pattern Recognition\n",
      "           Letters, 2006, 27(8):861-874.\n",
      "    \n",
      "    Examples\n",
      "    --------\n",
      "    >>> import numpy as np\n",
      "    >>> from sklearn import metrics\n",
      "    >>> y = np.array([1, 1, 2, 2])\n",
      "    >>> scores = np.array([0.1, 0.4, 0.35, 0.8])\n",
      "    >>> fpr, tpr, thresholds = metrics.roc_curve(y, scores, pos_label=2)\n",
      "    >>> fpr\n",
      "    array([0. , 0. , 0.5, 0.5, 1. ])\n",
      "    >>> tpr\n",
      "    array([0. , 0.5, 0.5, 1. , 1. ])\n",
      "    >>> thresholds\n",
      "    array([1.8 , 0.8 , 0.4 , 0.35, 0.1 ])\n",
      "\n"
     ]
    }
   ],
   "source": [
    "help(sk.metrics.roc_curve)"
   ]
  },
  {
   "cell_type": "code",
   "execution_count": null,
   "metadata": {},
   "outputs": [],
   "source": []
  }
 ],
 "metadata": {
  "kernelspec": {
   "display_name": "Python 3",
   "language": "python",
   "name": "python3"
  },
  "language_info": {
   "codemirror_mode": {
    "name": "ipython",
    "version": 3
   },
   "file_extension": ".py",
   "mimetype": "text/x-python",
   "name": "python",
   "nbconvert_exporter": "python",
   "pygments_lexer": "ipython3",
   "version": "3.7.2"
  },
  "toc": {
   "base_numbering": 1,
   "nav_menu": {},
   "number_sections": true,
   "sideBar": true,
   "skip_h1_title": false,
   "title_cell": "Table of Contents",
   "title_sidebar": "Contents",
   "toc_cell": false,
   "toc_position": {},
   "toc_section_display": true,
   "toc_window_display": true
  }
 },
 "nbformat": 4,
 "nbformat_minor": 2
}
