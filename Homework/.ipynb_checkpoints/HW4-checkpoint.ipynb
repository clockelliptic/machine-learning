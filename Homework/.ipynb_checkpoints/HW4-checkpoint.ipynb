{
 "cells": [
  {
   "cell_type": "markdown",
   "metadata": {},
   "source": [
    "# Homework Assignment 5"
   ]
  },
  {
   "cell_type": "markdown",
   "metadata": {},
   "source": [
    "## Problem 1\n",
    "Write a 1-2 page essay on an ethical issue in data mining."
   ]
  },
  {
   "cell_type": "markdown",
   "metadata": {},
   "source": [
    "## Problem 2\n",
    "(Topic: numerical data and partition boundaries.) \n",
    "\n",
    "Given these rules: \n",
    " - every partition should contain at least 3 instances of the majority class\n",
    " - merge 2 adjacent partitions when they have the same majority class\n",
    " - no partition should separate instances of the same class\n",
    " \n",
    " \n",
    " Partition the following data set:\n",
    "      A A B A B B B C B C B C C    "
   ]
  },
  {
   "cell_type": "code",
   "execution_count": 144,
   "metadata": {},
   "outputs": [
    {
     "name": "stdout",
     "output_type": "stream",
     "text": [
      "[3, 6, 4]\n"
     ]
    }
   ],
   "source": [
    "                #-----------------#\n",
    "                #--- PROBLEM 2 ---#\n",
    "                #-----------------#\n",
    "\n",
    "# We could automate this whole process but that would be\n",
    "# unnecessarily verbose! Lets treat this like an EDA problem!\n",
    "\n",
    "# The problem statement assumes that the code will iterate\n",
    "# through the list with loops, but it doesn't say that we\n",
    "# *must* iterate with loops... it also isn't entire clear\n",
    "# what the difference between a partition and an instance\n",
    "# is!\n",
    "\n",
    "# Represent each letter as a number: A = 1, B = 2, ...\n",
    "data = [1,1,2,1,2,2,2,3,2,3,2,3,3]\n",
    "\n",
    "# Count the occurrence of each\n",
    "print([data.count(i) for i in range(1,4)])\n",
    "### we can see that 'B' (represented as 2) is the most common\n",
    "\n",
    "# split the data starting at the tail\n",
    "counts = [i for i in data[:] if i == data]"
   ]
  },
  {
   "cell_type": "code",
   "execution_count": 133,
   "metadata": {},
   "outputs": [],
   "source": [
    "def partition(data_in):\n",
    "    data_ = data_in.copy()\n",
    "    new = [(i, val) for (i, val) in enumerate(data_) if (val == data_[i-1] or val == )]\n",
    "    for i, val in enumerate(data_): \n",
    "        if i in [j[0] for j in new]: del data_[i] \n",
    "    return data_ + [[k[1] for k in new]]"
   ]
  },
  {
   "cell_type": "code",
   "execution_count": 134,
   "metadata": {},
   "outputs": [
    {
     "data": {
      "text/plain": [
       "[(0, 1),\n",
       " (1, 1),\n",
       " (2, 2),\n",
       " (3, 1),\n",
       " (4, 2),\n",
       " (5, 2),\n",
       " (6, 2),\n",
       " (7, 3),\n",
       " (8, 2),\n",
       " (9, 3),\n",
       " (10, 2),\n",
       " (11, 3),\n",
       " (12, 3)]"
      ]
     },
     "execution_count": 134,
     "metadata": {},
     "output_type": "execute_result"
    }
   ],
   "source": [
    "[i for i in enumerate(data)]"
   ]
  },
  {
   "cell_type": "code",
   "execution_count": 139,
   "metadata": {},
   "outputs": [
    {
     "name": "stdout",
     "output_type": "stream",
     "text": [
      "[1, 1, 2, 1, 2, 2, 2, 3, 2, 3, 2, 3, 3]\n"
     ]
    },
    {
     "data": {
      "text/plain": [
       "[(0, 1), (1, 1), (4, 2), (5, 2), (6, 2), (11, 3), (12, 3)]"
      ]
     },
     "execution_count": 139,
     "metadata": {},
     "output_type": "execute_result"
    }
   ],
   "source": [
    "print(data)\n",
    "[(i, val) for (i, val) in enumerate(data) if (val == data[i-1] or val == data[i+1])]"
   ]
  },
  {
   "cell_type": "code",
   "execution_count": 140,
   "metadata": {},
   "outputs": [
    {
     "ename": "AttributeError",
     "evalue": "'list' object has no attribute 'split'",
     "output_type": "error",
     "traceback": [
      "\u001b[0;31m------------------------------------------------------\u001b[0m",
      "\u001b[0;31mAttributeError\u001b[0m       Traceback (most recent call last)",
      "\u001b[0;32m<ipython-input-140-bb83b840907c>\u001b[0m in \u001b[0;36m<module>\u001b[0;34m\u001b[0m\n\u001b[0;32m----> 1\u001b[0;31m \u001b[0;34m[\u001b[0m\u001b[0;36m1\u001b[0m\u001b[0;34m,\u001b[0m\u001b[0;36m2\u001b[0m\u001b[0;34m,\u001b[0m\u001b[0;36m3\u001b[0m\u001b[0;34m,\u001b[0m\u001b[0;36m4\u001b[0m\u001b[0;34m,\u001b[0m\u001b[0;36m5\u001b[0m\u001b[0;34m]\u001b[0m\u001b[0;34m.\u001b[0m\u001b[0msplit\u001b[0m\u001b[0;34m(\u001b[0m\u001b[0;36m2\u001b[0m\u001b[0;34m)\u001b[0m\u001b[0;34m\u001b[0m\u001b[0;34m\u001b[0m\u001b[0m\n\u001b[0m",
      "\u001b[0;31mAttributeError\u001b[0m: 'list' object has no attribute 'split'"
     ]
    }
   ],
   "source": [
    "[1,2,3,4,5].split(2)"
   ]
  },
  {
   "cell_type": "code",
   "execution_count": 143,
   "metadata": {},
   "outputs": [
    {
     "data": {
      "text/plain": [
       "['A', 'A', 'B', 'A', 'B', 'B', 'B', 'C', 'B', 'C', 'B', 'C', 'C']"
      ]
     },
     "execution_count": 143,
     "metadata": {},
     "output_type": "execute_result"
    }
   ],
   "source": [
    "\"A A B A B B B C B C B C C\".split(\" \")"
   ]
  },
  {
   "cell_type": "markdown",
   "metadata": {},
   "source": [
    "## Problem 3\n",
    "Using the contact lens dataset, estimate the probabilities for the following events:\n",
    "      \n",
    "      P(None)\n",
    "      P(Astigmatism)\n",
    "      P(Soft)\n",
    "      P(Myope, Astigmatism)\n",
    "      P(Astigmatism | Myope)\n",
    "      P(Astigmatism | None)\n",
    "    \n",
    "Probability of an event given another event is calculated $$P(A|B) = \\frac{P(B|A)P(A)}{P(B)}$$"
   ]
  },
  {
   "cell_type": "code",
   "execution_count": 219,
   "metadata": {},
   "outputs": [
    {
     "name": "stdout",
     "output_type": "stream",
     "text": [
      "young             8\n",
      "presbyopic        8\n",
      "pre-presbyopic    8\n",
      "Name: age, dtype: int64\n",
      "------------------------------\n",
      "myope           12\n",
      "hypermetrope    12\n",
      "Name: spectacle-prescrip, dtype: int64\n",
      "------------------------------\n",
      "no     12\n",
      "yes    12\n",
      "Name: astigmatism, dtype: int64\n",
      "------------------------------\n",
      "reduced    12\n",
      "normal     12\n",
      "Name: tear-prod-rate, dtype: int64\n",
      "------------------------------\n",
      "none    15\n",
      "soft     5\n",
      "hard     4\n",
      "Name: contact-lenses, dtype: int64\n",
      "------------------------------\n",
      "\n",
      "\n",
      "P(None):  0.625\n",
      "P(Soft):  0.20833333333333334\n",
      "P(Astigmatism):  0.5\n",
      "P(Myope):  0.5\n",
      "P(Myope|Astigmatism):  0.25\n",
      "P(Astigmatism|Myope):  0.25\n",
      "P(Astigmatism|None):  0.3333333333333333\n"
     ]
    }
   ],
   "source": [
    "                    #-----------------#\n",
    "                    #--- PROBLEM 3 ---#\n",
    "                    #-----------------#\n",
    "            \n",
    "\n",
    "import arff\n",
    "import pandas as pd\n",
    "import numpy as np\n",
    "\n",
    "# read in data\n",
    "dataset = arff.load(open('data/contact-lenses.arff', 'r'))\n",
    "data = pd.DataFrame(dataset['data'], columns=[i[0] for i in dataset['attributes']])\n",
    "\n",
    "# inspect counts for each value in each feature\n",
    "for i in list(data):\n",
    "    print(data[i].value_counts())\n",
    "    print(\"------------------------------\")\n",
    "\n",
    "\n",
    "#####-----------------------------------------------------------------####\n",
    "'''NEW CELL'''\n",
    "#####-----------------------------------------------------------------####\n",
    "    \n",
    "    \n",
    "# define probability function\n",
    "P = lambda A, B, P_BA : (P_BA * A)/(B)\n",
    "\n",
    "\n",
    "# total number of instances\n",
    "n = len(data)\n",
    "\n",
    "# probability of individual events in the dataset\n",
    "P_none = len(data.loc[data['contact-lenses'] == 'none']) / n\n",
    "P_soft = len(data.loc[data['contact-lenses'] == 'soft']) / n\n",
    "P_astigmatism = len(data.loc[data['astigmatism'] == 'yes']) / n\n",
    "P_myope = len(data.loc[data['spectacle-prescrip']=='myope']) / n\n",
    "\n",
    "# probabilities of particular events given other individual events\n",
    "P_myope_astigmatism = P(P_myope, \n",
    "                        P_astigmatism, \n",
    "                        len(data.loc[data['astigmatism']=='yes'].loc[data['spectacle-prescrip']=='myope']) / n\n",
    "                       )\n",
    "P_astigmatism_myope = P(P_astigmatism, \n",
    "                        P_myope, \n",
    "                        len(data.loc[data['spectacle-prescrip']=='myope'].loc[data['astigmatism']=='yes']) / n\n",
    "                       )\n",
    "P_astigmatism_none = P(P_astigmatism, \n",
    "                        P_myope, \n",
    "                        len(data.loc[data['contact-lenses'] == 'none'].loc[data['astigmatism']=='yes']) / n\n",
    "                       )\n",
    "print(\"\\n\")\n",
    "print(\"P(None): \", P_none)\n",
    "print(\"P(Soft): \", P_soft)\n",
    "print(\"P(Astigmatism): \", P_astigmatism)\n",
    "print(\"P(Myope): \", P_myope)\n",
    "print(\"P(Myope|Astigmatism): \", P_myope_astigmatism)\n",
    "print(\"P(Astigmatism|Myope): \", P_astigmatism_myope)\n",
    "print(\"P(Astigmatism|None): \", P_astigmatism_none)"
   ]
  },
  {
   "cell_type": "markdown",
   "metadata": {},
   "source": [
    "## Problem 4\n",
    "Use Naive Bayes to compute \n",
    "    \n",
    "    P(None | Normal, Astigmatism, Myope, Young)  /  \n",
    "    P(None | Normal, Astigmatism, Myope, Young)\n",
    "\n",
    "$$P(A|B) = \\frac{P(B|A)P(A)}{P(B|A)P(A)+P(B|A^C)P(A^C)}$$"
   ]
  },
  {
   "cell_type": "code",
   "execution_count": 225,
   "metadata": {},
   "outputs": [
    {
     "name": "stdout",
     "output_type": "stream",
     "text": [
      "P(None|Normal,Astigmatism,Myope,Young):  0.0012362444842303243\n"
     ]
    }
   ],
   "source": [
    "                #-----------------#\n",
    "                #--- PROBLEM 4 ---#\n",
    "                #-----------------#\n",
    "\n",
    "# I think the problem is mis-typed because: n/n=1 for any n where n!=0\n",
    "\n",
    "P_normal = len(data.loc[data['tear-prod-rate']=='normal']) / n\n",
    "P_young = len(data.loc[data['age']=='young']) / n\n",
    "\n",
    "P_none_astigmatism = P(P_none,\n",
    "                       P_astigmatism,\n",
    "                       len(data.loc[data['astigmatism']=='yes'].loc[data['contact-lenses'] == 'none']) / n\n",
    "                       )\n",
    "P_none_normal =      P(P_none,\n",
    "                     P_normal,\n",
    "                       len(data.loc[data['tear-prod-rate']=='normal'].loc[data['contact-lenses'] == 'none']) / n\n",
    "                       )\n",
    "P_none_myope =       P(P_none,\n",
    "                       P_myope,\n",
    "                       len(data.loc[data['spectacle-prescrip']=='myope'].loc[data['contact-lenses'] == 'none']) / n\n",
    "                       )\n",
    "P_none_young =       P(P_none,\n",
    "                       P_young,\n",
    "                       len(data.loc[data['age']=='young'].loc[data['contact-lenses'] == 'none']) / n\n",
    "                       )\n",
    "\n",
    "p_none_normal_astigmatism_myope_young = P_none_young*P_none_myope*P_none_normal*P_none_astigmatism/P_normal*P_astigmatism*P_young*P_myope\n",
    "\n",
    "print(\"P(None|Normal,Astigmatism,Myope,Young): \", p_none_normal_astigmatism_myope_young)"
   ]
  },
  {
   "cell_type": "markdown",
   "metadata": {},
   "source": [
    "## Problem 5\n",
    "Suppose that 4% of patients tested at a clinic are infected with avian flu. Suppose that when tested by a blood test, 97% of infected patients test positive and 2% of patients not infected test positive. What is the probability that\n",
    "      \n",
    "      a) a patient testing positive is infected?\n",
    "      b) a patient testing positive is not infected?\n",
    "      c) a patient testing negative is infected?\n",
    "      d) a patient testing negative is not infected?\n",
    "      e) if 0.02% of the population is infected, what is the probablility that a person who tests positive is infected?\n",
    "    "
   ]
  },
  {
   "cell_type": "code",
   "execution_count": null,
   "metadata": {},
   "outputs": [],
   "source": [
    "                #-----------------#\n",
    "                #--- PROBLEM 5 ---#\n",
    "                #-----------------#\n",
    "'''\n",
    "Reframing the question:\n",
    "    a) P(Infected|Positive)\n",
    "    b) P(Not Infected|Positive)\n",
    "    c) P(Infected|negative)\n",
    "    d) P(Not Infected|Negative)\n",
    "    e) P(Infected|Positive) where P(Infected)\n",
    "'''\n",
    "\n",
    "P_infected = 1/25\n",
    "P_postest = 97/100\n",
    "P_negtest = 3/100\n",
    "P_falsepos = 1/50\n",
    "P_infected_e = 0.02"
   ]
  },
  {
   "cell_type": "markdown",
   "metadata": {},
   "source": [
    "## Problem 6\n",
    "How much information is in a set containing 5 0s and 3 1s?"
   ]
  },
  {
   "cell_type": "code",
   "execution_count": 244,
   "metadata": {},
   "outputs": [
    {
     "data": {
      "text/plain": [
       "0.9544340029249649"
      ]
     },
     "execution_count": 244,
     "metadata": {},
     "output_type": "execute_result"
    }
   ],
   "source": [
    "                #-----------------#\n",
    "                #--- PROBLEM 6 ---#\n",
    "                #-----------------#\n",
    "            \n",
    "# I suppose we're supposed to suppose a few things that aren't stated in the\n",
    "# problem.... so I'm going to treat this like a series of fair coin-tosses, and\n",
    "# I'm going to interpret this as asking for the information-entropy.\n",
    "\n",
    "import math\n",
    "\n",
    "# number of coin tosses\n",
    "tosses = [0,0,0,0,0,1,1,1]\n",
    "\n",
    "# calculate possible outcomes\n",
    "H = lambda Probs: sum([(P[1] * math.log(1/P[1],2)) for P in Probs])\n",
    "\n",
    "# generate list of tuples containing\n",
    "# probability of each possible outcome\n",
    "outcomes = set(tosses)\n",
    "probs = [(j, len([i for i in tosses if i == j])/len(tosses)) for j in outcomes]\n",
    "\n",
    "# calculate entropy, the amount of information\n",
    "H(probs)"
   ]
  },
  {
   "cell_type": "markdown",
   "metadata": {},
   "source": [
    "## Problem 7\n",
    "Show that the gradient of the following quadratic error function is the equation on P.117 in TensorFlow\n",
    "      $$MSE(θ) = (θ · X - Y)^2$$\n",
    "    \n",
    "First expand the vectors and write the dot product as a sum"
   ]
  },
  {
   "cell_type": "code",
   "execution_count": null,
   "metadata": {},
   "outputs": [],
   "source": [
    "                #-----------------#\n",
    "                #--- PROBLEM 7 ---#\n",
    "                #-----------------#\n",
    "            \n",
    "            \n",
    "# I think my book is numbered differently because I have a digital version\n",
    "# hmmmm...I'm assuming that this problem is about the logistic regression\n",
    "# error function, which is on page 189 of my book.\n",
    "\n",
    "'''\n",
    "The Gradient is analagous to higher order derivative.\n",
    "\n",
    "For a function `f`, Grad(f) is given by the sum of the products\n",
    "of the partial derivatives of `f` and the unit vector of the axis\n",
    "of derivation for each given partial derivative.\n",
    "\n",
    "Since I can't know the dimension of the vectors X and Y as given,\n",
    "I'm actually entirely \n",
    "'''\n",
    "\n",
    "MSE"
   ]
  },
  {
   "cell_type": "code",
   "execution_count": null,
   "metadata": {},
   "outputs": [],
   "source": [
    "import numpy as np\n",
    "\n",
    "x = np.linspace(-3,3,100)\n",
    "y = (t * x - y)**2"
   ]
  },
  {
   "cell_type": "markdown",
   "metadata": {},
   "source": [
    "## Problem 8\n",
    "Compute the inverse for the following 2x2 matrix\n",
    "\n",
    "      | 3  0 |\n",
    "      | 0  5 |"
   ]
  },
  {
   "cell_type": "code",
   "execution_count": 288,
   "metadata": {},
   "outputs": [],
   "source": [
    "                #-----------------#\n",
    "                #--- PROBLEM 8 ---#\n",
    "                #-----------------#\n",
    "            \n",
    "# well, i can calculate this in my head... but i guess\n",
    "# python is maybe more interesting\n",
    "\n",
    "# take our matrix\n",
    "A = [[3,0],\n",
    "     [0,5]]\n",
    "\n",
    "# reshape our matrix\n",
    "A = A[0]+A[1]\n",
    "\n",
    "# compute the determinant\n",
    "det = 1 / (A[0]*A[-1] - A[1]*A[-2])\n",
    "\n",
    "# compute our inverse matrix, A^(-1)\n",
    "A_ = [[round((det*i), 2) for i in A[0:2]],\n",
    "      [round((det*i), 2) for i in A[2:4]]]\n",
    "\n",
    "for i in A_: print(i)"
   ]
  },
  {
   "cell_type": "code",
   "execution_count": null,
   "metadata": {},
   "outputs": [],
   "source": []
  }
 ],
 "metadata": {
  "kernelspec": {
   "display_name": "Python 3",
   "language": "python",
   "name": "python3"
  },
  "language_info": {
   "codemirror_mode": {
    "name": "ipython",
    "version": 3
   },
   "file_extension": ".py",
   "mimetype": "text/x-python",
   "name": "python",
   "nbconvert_exporter": "python",
   "pygments_lexer": "ipython3",
   "version": "3.6.7"
  },
  "toc": {
   "base_numbering": 1,
   "nav_menu": {},
   "number_sections": true,
   "sideBar": true,
   "skip_h1_title": false,
   "title_cell": "Table of Contents",
   "title_sidebar": "Contents",
   "toc_cell": false,
   "toc_position": {},
   "toc_section_display": true,
   "toc_window_display": false
  }
 },
 "nbformat": 4,
 "nbformat_minor": 2
}
