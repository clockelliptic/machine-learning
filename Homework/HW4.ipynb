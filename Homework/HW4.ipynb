{
 "cells": [
  {
   "cell_type": "markdown",
   "metadata": {},
   "source": [
    "\n",
    "# Homework Assignment 5"
   ]
  },
  {
   "cell_type": "markdown",
   "metadata": {},
   "source": [
    "## Problem 1\n",
    "Write a 1-2 page essay on an ethical issue in data mining."
   ]
  },
  {
   "cell_type": "markdown",
   "metadata": {},
   "source": [
    "## Problem 2\n",
    "(Topic: numerical data and partition boundaries.) \n",
    "\n",
    "Given these rules: \n",
    " - every partition should contain at least 3 instances of the majority class\n",
    " - merge 2 adjacent partitions when they have the same majority class\n",
    " - no partition should separate instances of the same class\n",
    " \n",
    " \n",
    " Partition the following data set:\n",
    "      A A B A B B B C B C B C C    "
   ]
  },
  {
   "cell_type": "code",
   "execution_count": 16,
   "metadata": {},
   "outputs": [],
   "source": [
    "                    #-----------------#\n",
    "                    #--- PROBLEM 2 ---#\n",
    "                    #-----------------#\n",
    "                    \n",
    "\n",
    "##   I can't figure out what this is asking for. Doesn't make sense to me.\n",
    "##   There aren't any partitions to begin with and there aren't any limitations\n",
    "##   on wether I can sort the data \n",
    "\n",
    "##   The majority class is 'C', so there can only be two partitions and they\n",
    "##   are acquired by reading the list backward and spltting the list after the \n",
    "##   the third instance.\n",
    "\n",
    "# ANSWER: [A A B A B B B C B ] [C B C C ]\n",
    "\n",
    "##   I think maybe the problem was supposed to clarify that the process should \n",
    "##   be iterative/recursive such that the process terminates when the rules can \n",
    "##   not longer be satisfied.\n",
    "\n",
    "##   On the second pass through the remaining data, still readin gbackward,\n",
    "##   we get another partition:\n",
    "\n",
    "# Final \"right\" Answer: [A A B A] [B B B C B] [C B C C]"
   ]
  },
  {
   "cell_type": "markdown",
   "metadata": {},
   "source": [
    "## Problem 3\n",
    "Using the contact lens dataset, estimate the probabilities for the following events:\n",
    "      \n",
    "      P(None)\n",
    "      P(Astigmatism)\n",
    "      P(Soft)\n",
    "      P(Myope, Astigmatism)\n",
    "      P(Astigmatism | Myope)\n",
    "      P(Astigmatism | None)\n",
    "    \n",
    "Probability of an event given another event is calculated $$P(A|B) = \\frac{P(B|A)P(A)}{P(B)}$$"
   ]
  },
  {
   "cell_type": "code",
   "execution_count": 219,
   "metadata": {},
   "outputs": [
    {
     "name": "stdout",
     "output_type": "stream",
     "text": [
      "young             8\n",
      "presbyopic        8\n",
      "pre-presbyopic    8\n",
      "Name: age, dtype: int64\n",
      "------------------------------\n",
      "myope           12\n",
      "hypermetrope    12\n",
      "Name: spectacle-prescrip, dtype: int64\n",
      "------------------------------\n",
      "no     12\n",
      "yes    12\n",
      "Name: astigmatism, dtype: int64\n",
      "------------------------------\n",
      "reduced    12\n",
      "normal     12\n",
      "Name: tear-prod-rate, dtype: int64\n",
      "------------------------------\n",
      "none    15\n",
      "soft     5\n",
      "hard     4\n",
      "Name: contact-lenses, dtype: int64\n",
      "------------------------------\n",
      "\n",
      "\n",
      "P(None):  0.625\n",
      "P(Soft):  0.20833333333333334\n",
      "P(Astigmatism):  0.5\n",
      "P(Myope):  0.5\n",
      "P(Myope|Astigmatism):  0.25\n",
      "P(Astigmatism|Myope):  0.25\n",
      "P(Astigmatism|None):  0.3333333333333333\n"
     ]
    }
   ],
   "source": [
    "                    #-----------------#\n",
    "                    #--- PROBLEM 3 ---#\n",
    "                    #-----------------#\n",
    "            \n",
    "\n",
    "import arff\n",
    "import pandas as pd\n",
    "import numpy as np\n",
    "\n",
    "# read in data\n",
    "dataset = arff.load(open('data/contact-lenses.arff', 'r'))\n",
    "data = pd.DataFrame(dataset['data'], columns=[i[0] for i in dataset['attributes']])\n",
    "\n",
    "# inspect counts for each value in each feature\n",
    "for i in list(data):\n",
    "    print(data[i].value_counts())\n",
    "    print(\"------------------------------\")\n",
    "\n",
    "\n",
    "#####-----------------------------------------------------------------####\n",
    "'''NEW CELL'''\n",
    "#####-----------------------------------------------------------------####\n",
    "    \n",
    "    \n",
    "# define probability function\n",
    "P = lambda A, B, P_BA : (P_BA * A)/(B)\n",
    "\n",
    "\n",
    "# total number of instances\n",
    "n = len(data)\n",
    "\n",
    "# probability of individual events in the dataset\n",
    "P_none = len(data.loc[data['contact-lenses'] == 'none']) / n\n",
    "P_soft = len(data.loc[data['contact-lenses'] == 'soft']) / n\n",
    "P_astigmatism = len(data.loc[data['astigmatism'] == 'yes']) / n\n",
    "P_myope = len(data.loc[data['spectacle-prescrip']=='myope']) / n\n",
    "\n",
    "# probabilities of particular events given other individual events\n",
    "P_myope_astigmatism = P(P_myope, \n",
    "                        P_astigmatism, \n",
    "                        len(data.loc[data['astigmatism']=='yes'].loc[data['spectacle-prescrip']=='myope']) / n\n",
    "                       )\n",
    "P_astigmatism_myope = P(P_astigmatism, \n",
    "                        P_myope, \n",
    "                        len(data.loc[data['spectacle-prescrip']=='myope'].loc[data['astigmatism']=='yes']) / n\n",
    "                       )\n",
    "P_astigmatism_none = P(P_astigmatism, \n",
    "                        P_myope, \n",
    "                        len(data.loc[data['contact-lenses'] == 'none'].loc[data['astigmatism']=='yes']) / n\n",
    "                       )\n",
    "print(\"\\n\")\n",
    "print(\"P(None): \", P_none)\n",
    "print(\"P(Soft): \", P_soft)\n",
    "print(\"P(Astigmatism): \", P_astigmatism)\n",
    "print(\"P(Myope): \", P_myope)\n",
    "print(\"P(Myope|Astigmatism): \", P_myope_astigmatism)\n",
    "print(\"P(Astigmatism|Myope): \", P_astigmatism_myope)\n",
    "print(\"P(Astigmatism|None): \", P_astigmatism_none)"
   ]
  },
  {
   "cell_type": "markdown",
   "metadata": {},
   "source": [
    "## Problem 4\n",
    "Use Naive Bayes to compute \n",
    "    \n",
    "    P(None | Normal, Astigmatism, Myope, Young)  /  \n",
    "    P(None | Normal, Astigmatism, Myope, Young)\n",
    "\n",
    "$$P(A|B) = \\frac{P(B|A)P(A)}{P(B|A)P(A)+P(B|A^C)P(A^C)}$$"
   ]
  },
  {
   "cell_type": "code",
   "execution_count": 225,
   "metadata": {},
   "outputs": [
    {
     "name": "stdout",
     "output_type": "stream",
     "text": [
      "P(None|Normal,Astigmatism,Myope,Young):  0.0012362444842303243\n"
     ]
    }
   ],
   "source": [
    "                #-----------------#\n",
    "                #--- PROBLEM 4 ---#\n",
    "                #-----------------#\n",
    "\n",
    "# I think the problem is mis-typed because: n/n=1 for any n where n!=0\n",
    "\n",
    "P_normal = len(data.loc[data['tear-prod-rate']=='normal']) / n\n",
    "P_young = len(data.loc[data['age']=='young']) / n\n",
    "\n",
    "P_none_astigmatism = P(P_none,\n",
    "                       P_astigmatism,\n",
    "                       len(data.loc[data['astigmatism']=='yes'].loc[data['contact-lenses'] == 'none']) / n\n",
    "                       )\n",
    "P_none_normal =      P(P_none,\n",
    "                     P_normal,\n",
    "                       len(data.loc[data['tear-prod-rate']=='normal'].loc[data['contact-lenses'] == 'none']) / n\n",
    "                       )\n",
    "P_none_myope =       P(P_none,\n",
    "                       P_myope,\n",
    "                       len(data.loc[data['spectacle-prescrip']=='myope'].loc[data['contact-lenses'] == 'none']) / n\n",
    "                       )\n",
    "P_none_young =       P(P_none,\n",
    "                       P_young,\n",
    "                       len(data.loc[data['age']=='young'].loc[data['contact-lenses'] == 'none']) / n\n",
    "                       )\n",
    "\n",
    "p_none_normal_astigmatism_myope_young = P_none_young*P_none_myope*P_none_normal*P_none_astigmatism/P_normal*P_astigmatism*P_young*P_myope\n",
    "\n",
    "print(\"P(None|Normal,Astigmatism,Myope,Young): \", p_none_normal_astigmatism_myope_young)"
   ]
  },
  {
   "cell_type": "markdown",
   "metadata": {},
   "source": [
    "## Problem 5\n",
    "Suppose that 4% of patients tested at a clinic are infected with avian flu. Suppose that when tested by a blood test, 97% of infected patients test positive and 2% of patients not infected test positive. What is the probability that\n",
    "      \n",
    "      a) a patient testing positive is infected?\n",
    "      b) a patient testing positive is not infected?\n",
    "      c) a patient testing negative is infected?\n",
    "      d) a patient testing negative is not infected?\n",
    "      e) if 0.02% of the population is infected, what is the probablility that a person who tests positive is infected?\n",
    "    "
   ]
  },
  {
   "cell_type": "code",
   "execution_count": 13,
   "metadata": {},
   "outputs": [
    {
     "name": "stdout",
     "output_type": "stream",
     "text": [
      "\n",
      "Results:\n",
      "    a) P(Infected|Positive):           .0.97\n",
      "    b) P(Not Infected|Positive):       .0.02\n",
      "    c) P(Infected|negative):           .0.0008496176720475786\n",
      "    d) P(Not Infected|Negative):       .0.9987261146496815\n",
      "    e) P(Infected|Positive) [where P(Inf) = 0.02]:      .0.0002003606491685033\n",
      "\n"
     ]
    }
   ],
   "source": [
    "                #-----------------#\n",
    "                #--- PROBLEM 5 ---#\n",
    "                #-----------------#\n",
    "'''\n",
    "Reframing the question:\n",
    "    a) P(Infected|Positive)\n",
    "    b) P(Not Infected|Positive)\n",
    "    c) P(Infected|negative)\n",
    "    d) P(Not Infected|Negative)\n",
    "    e) P(Infected|Positive) where P(Infected) = 0.02 = 1/500\n",
    "'''\n",
    "\n",
    "\n",
    "P_infected = 1/25\n",
    "P_notinfected = 24/25\n",
    "P_falseneg_rate = 3/100\n",
    "P_trueneg = 98/100\n",
    "P_notinfected = 96/100\n",
    "\n",
    "#  a) P(Infected|Positive)\n",
    "P_truepos = 97/100\n",
    "\n",
    "#  b) P(Not Infected|Positive)\n",
    "P_falsepos = 2/100\n",
    "\n",
    "#  c) P(Infected|negative)\n",
    "P_falseneg = (P_infected)*(P_falsepos) / ( (P_infected)*(P_falsepos)+(P_notinfected)*(P_trueneg))\n",
    "\n",
    "#  d) P(Not Infected|Negative)\n",
    "P_trueneg = (P_notinfected)*(P_trueneg) / ( (P_notinfected)*(P_trueneg)+(P_infected)*(P_falseneg_rate) )\n",
    "\n",
    "#  e) P(Infected|Positive) where P(Infected) = 0.02 = 1/500\n",
    "P_infected_e = 0.02\n",
    "P_notinfected_e = 99.8\n",
    "P_truepos_e = (P_infected_e)*(P_truepos) / ( (P_infected_e)*(P_truepos)+(P_notinfected_e)*(P_truepos))\n",
    "\n",
    "\n",
    "## Print results\n",
    "\n",
    "print('''\n",
    "Results:\n",
    "    a) P(Infected|Positive):           .{}\n",
    "    b) P(Not Infected|Positive):       .{}\n",
    "    c) P(Infected|negative):           .{}\n",
    "    d) P(Not Infected|Negative):       .{}\n",
    "    e) P(Infected|Positive) [where P(Inf) = 0.02]:      .{}\n",
    "'''.format(P_truepos, P_falsepos, P_falseneg, P_trueneg, P_truepos_e))"
   ]
  },
  {
   "cell_type": "markdown",
   "metadata": {},
   "source": [
    "## Problem 6\n",
    "How much information is in a set containing 5 0s and 3 1s?"
   ]
  },
  {
   "cell_type": "code",
   "execution_count": 244,
   "metadata": {},
   "outputs": [
    {
     "data": {
      "text/plain": [
       "0.9544340029249649"
      ]
     },
     "execution_count": 244,
     "metadata": {},
     "output_type": "execute_result"
    }
   ],
   "source": [
    "                #-----------------#\n",
    "                #--- PROBLEM 6 ---#\n",
    "                #-----------------#\n",
    "            \n",
    "# I suppose we're supposed to suppose a few things that aren't stated in the\n",
    "# problem.... so I'm going to treat this like a series of fair coin-tosses, and\n",
    "# I'm going to interpret this as asking for the information-entropy.\n",
    "\n",
    "import math\n",
    "\n",
    "# number of coin tosses\n",
    "tosses = [0,0,0,0,0,1,1,1]\n",
    "\n",
    "# calculate possible outcomes\n",
    "H = lambda Probs: sum([(P[1] * math.log(1/P[1],2)) for P in Probs])\n",
    "\n",
    "# generate list of tuples containing\n",
    "# probability of each possible outcome\n",
    "outcomes = set(tosses)\n",
    "probs = [(j, len([i for i in tosses if i == j])/len(tosses)) for j in outcomes]\n",
    "\n",
    "# calculate entropy, the amount of information\n",
    "H(probs)"
   ]
  },
  {
   "cell_type": "markdown",
   "metadata": {},
   "source": [
    "## Problem 7\n",
    "Show that the gradient of the following quadratic error function is the equation on P.117 in TensorFlow\n",
    "      $$MSE(θ) = (θ · X - Y)^2$$\n",
    "    \n",
    "First expand the vectors and write the dot product as a sum"
   ]
  },
  {
   "cell_type": "code",
   "execution_count": null,
   "metadata": {},
   "outputs": [],
   "source": [
    "                #-----------------#\n",
    "                #--- PROBLEM 7 ---#\n",
    "                #-----------------#\n",
    "            \n",
    "            \n",
    "# I think my book is numbered differently because I have a digital version\n",
    "# hmmmm...I'm assuming that this problem is about the logistic regression\n",
    "# error function, which is on page 189 of my book.\n",
    "\n",
    "'''\n",
    "Maybe we can run through this in class.\n",
    "\n",
    "here's a pretty intense run-through of this derivation showing some very\n",
    "interesting things, such as an identity of the signmoid function that is\n",
    "required to perform this.\n",
    "\n",
    "in any case, I learned so much from this problem. thank you!!\n",
    "\n",
    "https://stats.stackexchange.com/questions/278771/how-is-the-cost-function-from-logistic-regression-derivated\n",
    "'''\n"
   ]
  },
  {
   "cell_type": "markdown",
   "metadata": {},
   "source": [
    "## Problem 8\n",
    "Compute the inverse for the following 2x2 matrix\n",
    "\n",
    "      | 3  0 |\n",
    "      | 0  5 |"
   ]
  },
  {
   "cell_type": "code",
   "execution_count": 14,
   "metadata": {},
   "outputs": [
    {
     "name": "stdout",
     "output_type": "stream",
     "text": [
      "[0.2, 0.0]\n",
      "[0.0, 0.33]\n"
     ]
    }
   ],
   "source": [
    "                #-----------------#\n",
    "                #--- PROBLEM 8 ---#\n",
    "                #-----------------#\n",
    "            \n",
    "# well, i can calculate this in my head... but i guess\n",
    "# python is maybe more interesting\n",
    "\n",
    "# take our matrix\n",
    "A = [[3,0],\n",
    "     [0,5]]\n",
    "\n",
    "# reshape our matrix\n",
    "A = A[0]+A[1]\n",
    "\n",
    "# compute the determinant\n",
    "det = 1 / (A[0]*A[-1] - A[1]*A[-2])\n",
    "\n",
    "# compute our inverse matrix, A^(-1)\n",
    "A_ = [[round((det*i), 2) for i in A[0:2]],\n",
    "      [round((det*i), 2) for i in A[2:4]]]\n",
    "\n",
    "for i in A_: print(i)"
   ]
  },
  {
   "cell_type": "code",
   "execution_count": null,
   "metadata": {},
   "outputs": [],
   "source": []
  }
 ],
 "metadata": {
  "kernelspec": {
   "display_name": "Python 3",
   "language": "python",
   "name": "python3"
  },
  "language_info": {
   "codemirror_mode": {
    "name": "ipython",
    "version": 3
   },
   "file_extension": ".py",
   "mimetype": "text/x-python",
   "name": "python",
   "nbconvert_exporter": "python",
   "pygments_lexer": "ipython3",
   "version": "3.7.2"
  },
  "toc": {
   "base_numbering": 1,
   "nav_menu": {},
   "number_sections": true,
   "sideBar": true,
   "skip_h1_title": false,
   "title_cell": "Table of Contents",
   "title_sidebar": "Contents",
   "toc_cell": false,
   "toc_position": {},
   "toc_section_display": true,
   "toc_window_display": false
  }
 },
 "nbformat": 4,
 "nbformat_minor": 2
}
